{
 "cells": [
  {
   "cell_type": "markdown",
   "metadata": {},
   "source": [
    "# Определение популярных продуктов для рекламной кампании интернет-магазина"
   ]
  },
  {
   "cell_type": "markdown",
   "metadata": {},
   "source": [
    "С помощью исторических данных о продажах игр, оценках пользователей и экспертов, жанрах и платформах необходимо выявить определяющие успех игры факторы. Результаты анализа в дальнейшем будут использованы интернет-магазином при планировании рекламной кампании."
   ]
  },
  {
   "cell_type": "markdown",
   "metadata": {},
   "source": [
    "### Описание данных"
   ]
  },
  {
   "cell_type": "markdown",
   "metadata": {},
   "source": [
    "- Name — название игры;\n",
    "- Platform — платформа;\n",
    "- Year_of_Release — год выпуска;\n",
    "- Genre — жанр игры;\n",
    "- NA_sales — продажи в Северной Америке (миллионы долларов);\n",
    "- EU_sales — продажи в Европе (миллионы долларов);\n",
    "- JP_sales — продажи в Японии (миллионы долларов);\n",
    "- Other_sales — продажи в других странах (миллионы долларов);\n",
    "- Critic_Score — оценка критиков (максимум 100);\n",
    "- User_Score — оценка пользователей (максимум 10);\n",
    "- Rating — рейтинг от организации ESRB."
   ]
  },
  {
   "cell_type": "markdown",
   "metadata": {},
   "source": [
    "### Библиотеки и модули"
   ]
  },
  {
   "cell_type": "code",
   "execution_count": 1,
   "metadata": {},
   "outputs": [],
   "source": [
    "import pandas as pd\n",
    "pd.set_option('display.max_columns', 100)\n",
    "\n",
    "import seaborn as sns\n",
    "import matplotlib.pyplot as plt\n",
    "%matplotlib inline\n",
    "\n",
    "import numpy as np\n",
    "from scipy import stats as st"
   ]
  },
  {
   "cell_type": "markdown",
   "metadata": {},
   "source": [
    "### Содержание"
   ]
  },
  {
   "cell_type": "markdown",
   "metadata": {},
   "source": [
    "1. Изучение общей информации о данных\n",
    "2. Подготовка данных\n",
    "    - Изменение названия столбцов\n",
    "    - Изменение типов данных\n",
    "    - Работа с дубликатами\n",
    "    - Работа с пропусками\n",
    "    - Суммарные продажи в регионах\n",
    "3. Исследовательский анализ данных (EDA)\n",
    "    - Сколько игр выпускалось в разные годы\n",
    "    - Как менялись продажи по платформам\n",
    "    - Актуальный период\n",
    "    - Потенциально прибыльные платформы\n",
    "    - График «ящик с усами» по глобальным продажам каждой игры и разбивкой по платформам\n",
    "    - Влияние отзывов пользовталей и критиков на продажи внутри одной популярной платформы\n",
    "    - Справедлив ли вывод из пункта выше для других платформ?\n",
    "    - Распределение игр и продаж по жанрам\n",
    "4. Портер пользователя каждого региона (North America, Europe, Japan)\n",
    "    - Портреты\n",
    "    - Влияние рейтинга ESRB на продажи в регионах\n",
    "5. Проверка гипотез\n",
    "    - Средние пользовательские рейтинги платформ Xbox One и PC одинаковые\n",
    "    - Средние пользовательские рейтинги жанров Action и Sports разные\n",
    "6. Общий вывод"
   ]
  },
  {
   "cell_type": "markdown",
   "metadata": {},
   "source": [
    "## Изучение общей информации о данных"
   ]
  },
  {
   "cell_type": "code",
   "execution_count": 2,
   "metadata": {},
   "outputs": [
    {
     "data": {
      "text/html": [
       "<div>\n",
       "<style scoped>\n",
       "    .dataframe tbody tr th:only-of-type {\n",
       "        vertical-align: middle;\n",
       "    }\n",
       "\n",
       "    .dataframe tbody tr th {\n",
       "        vertical-align: top;\n",
       "    }\n",
       "\n",
       "    .dataframe thead th {\n",
       "        text-align: right;\n",
       "    }\n",
       "</style>\n",
       "<table border=\"1\" class=\"dataframe\">\n",
       "  <thead>\n",
       "    <tr style=\"text-align: right;\">\n",
       "      <th></th>\n",
       "      <th>Name</th>\n",
       "      <th>Platform</th>\n",
       "      <th>Year_of_Release</th>\n",
       "      <th>Genre</th>\n",
       "      <th>NA_sales</th>\n",
       "      <th>EU_sales</th>\n",
       "      <th>JP_sales</th>\n",
       "      <th>Other_sales</th>\n",
       "      <th>Critic_Score</th>\n",
       "      <th>User_Score</th>\n",
       "      <th>Rating</th>\n",
       "    </tr>\n",
       "  </thead>\n",
       "  <tbody>\n",
       "    <tr>\n",
       "      <td>0</td>\n",
       "      <td>Wii Sports</td>\n",
       "      <td>Wii</td>\n",
       "      <td>2006.0</td>\n",
       "      <td>Sports</td>\n",
       "      <td>41.36</td>\n",
       "      <td>28.96</td>\n",
       "      <td>3.77</td>\n",
       "      <td>8.45</td>\n",
       "      <td>76.0</td>\n",
       "      <td>8</td>\n",
       "      <td>E</td>\n",
       "    </tr>\n",
       "    <tr>\n",
       "      <td>1</td>\n",
       "      <td>Super Mario Bros.</td>\n",
       "      <td>NES</td>\n",
       "      <td>1985.0</td>\n",
       "      <td>Platform</td>\n",
       "      <td>29.08</td>\n",
       "      <td>3.58</td>\n",
       "      <td>6.81</td>\n",
       "      <td>0.77</td>\n",
       "      <td>NaN</td>\n",
       "      <td>NaN</td>\n",
       "      <td>NaN</td>\n",
       "    </tr>\n",
       "    <tr>\n",
       "      <td>2</td>\n",
       "      <td>Mario Kart Wii</td>\n",
       "      <td>Wii</td>\n",
       "      <td>2008.0</td>\n",
       "      <td>Racing</td>\n",
       "      <td>15.68</td>\n",
       "      <td>12.76</td>\n",
       "      <td>3.79</td>\n",
       "      <td>3.29</td>\n",
       "      <td>82.0</td>\n",
       "      <td>8.3</td>\n",
       "      <td>E</td>\n",
       "    </tr>\n",
       "    <tr>\n",
       "      <td>3</td>\n",
       "      <td>Wii Sports Resort</td>\n",
       "      <td>Wii</td>\n",
       "      <td>2009.0</td>\n",
       "      <td>Sports</td>\n",
       "      <td>15.61</td>\n",
       "      <td>10.93</td>\n",
       "      <td>3.28</td>\n",
       "      <td>2.95</td>\n",
       "      <td>80.0</td>\n",
       "      <td>8</td>\n",
       "      <td>E</td>\n",
       "    </tr>\n",
       "    <tr>\n",
       "      <td>4</td>\n",
       "      <td>Pokemon Red/Pokemon Blue</td>\n",
       "      <td>GB</td>\n",
       "      <td>1996.0</td>\n",
       "      <td>Role-Playing</td>\n",
       "      <td>11.27</td>\n",
       "      <td>8.89</td>\n",
       "      <td>10.22</td>\n",
       "      <td>1.00</td>\n",
       "      <td>NaN</td>\n",
       "      <td>NaN</td>\n",
       "      <td>NaN</td>\n",
       "    </tr>\n",
       "  </tbody>\n",
       "</table>\n",
       "</div>"
      ],
      "text/plain": [
       "                       Name Platform  Year_of_Release         Genre  NA_sales  \\\n",
       "0                Wii Sports      Wii           2006.0        Sports     41.36   \n",
       "1         Super Mario Bros.      NES           1985.0      Platform     29.08   \n",
       "2            Mario Kart Wii      Wii           2008.0        Racing     15.68   \n",
       "3         Wii Sports Resort      Wii           2009.0        Sports     15.61   \n",
       "4  Pokemon Red/Pokemon Blue       GB           1996.0  Role-Playing     11.27   \n",
       "\n",
       "   EU_sales  JP_sales  Other_sales  Critic_Score User_Score Rating  \n",
       "0     28.96      3.77         8.45          76.0          8      E  \n",
       "1      3.58      6.81         0.77           NaN        NaN    NaN  \n",
       "2     12.76      3.79         3.29          82.0        8.3      E  \n",
       "3     10.93      3.28         2.95          80.0          8      E  \n",
       "4      8.89     10.22         1.00           NaN        NaN    NaN  "
      ]
     },
     "execution_count": 2,
     "metadata": {},
     "output_type": "execute_result"
    }
   ],
   "source": [
    "games = pd.read_csv('/datasets/games.csv')\n",
    "games.head(5)"
   ]
  },
  {
   "cell_type": "markdown",
   "metadata": {},
   "source": [
    "Данные считались корректно."
   ]
  },
  {
   "cell_type": "code",
   "execution_count": 3,
   "metadata": {},
   "outputs": [
    {
     "name": "stdout",
     "output_type": "stream",
     "text": [
      "<class 'pandas.core.frame.DataFrame'>\n",
      "RangeIndex: 16715 entries, 0 to 16714\n",
      "Data columns (total 11 columns):\n",
      "Name               16713 non-null object\n",
      "Platform           16715 non-null object\n",
      "Year_of_Release    16446 non-null float64\n",
      "Genre              16713 non-null object\n",
      "NA_sales           16715 non-null float64\n",
      "EU_sales           16715 non-null float64\n",
      "JP_sales           16715 non-null float64\n",
      "Other_sales        16715 non-null float64\n",
      "Critic_Score       8137 non-null float64\n",
      "User_Score         10014 non-null object\n",
      "Rating             9949 non-null object\n",
      "dtypes: float64(6), object(5)\n",
      "memory usage: 1.4+ MB\n"
     ]
    }
   ],
   "source": [
    "games.info()"
   ]
  },
  {
   "cell_type": "markdown",
   "metadata": {},
   "source": [
    "В столбцах: Name, Year_of_Release, Genre, Critic_Score, User_Score, Rating присутствуют пропуски. Также заметим, что столбец User_Score считался как тип object."
   ]
  },
  {
   "cell_type": "markdown",
   "metadata": {},
   "source": [
    "## Подготовка данных"
   ]
  },
  {
   "cell_type": "markdown",
   "metadata": {},
   "source": [
    "### Изменение названия столбцов"
   ]
  },
  {
   "cell_type": "markdown",
   "metadata": {},
   "source": [
    "Для придания стиля коду приведем все символы названий столбцов к нижнему регистру."
   ]
  },
  {
   "cell_type": "code",
   "execution_count": 4,
   "metadata": {},
   "outputs": [
    {
     "data": {
      "text/plain": [
       "['name',\n",
       " 'platform',\n",
       " 'year_of_release',\n",
       " 'genre',\n",
       " 'na_sales',\n",
       " 'eu_sales',\n",
       " 'jp_sales',\n",
       " 'other_sales',\n",
       " 'critic_score',\n",
       " 'user_score',\n",
       " 'rating']"
      ]
     },
     "execution_count": 4,
     "metadata": {},
     "output_type": "execute_result"
    }
   ],
   "source": [
    "games_columns_lower = [column.lower() for column in games.columns.tolist()]\n",
    "games_columns_lower"
   ]
  },
  {
   "cell_type": "code",
   "execution_count": 5,
   "metadata": {},
   "outputs": [
    {
     "data": {
      "text/html": [
       "<div>\n",
       "<style scoped>\n",
       "    .dataframe tbody tr th:only-of-type {\n",
       "        vertical-align: middle;\n",
       "    }\n",
       "\n",
       "    .dataframe tbody tr th {\n",
       "        vertical-align: top;\n",
       "    }\n",
       "\n",
       "    .dataframe thead th {\n",
       "        text-align: right;\n",
       "    }\n",
       "</style>\n",
       "<table border=\"1\" class=\"dataframe\">\n",
       "  <thead>\n",
       "    <tr style=\"text-align: right;\">\n",
       "      <th></th>\n",
       "      <th>name</th>\n",
       "      <th>platform</th>\n",
       "      <th>year_of_release</th>\n",
       "      <th>genre</th>\n",
       "      <th>na_sales</th>\n",
       "      <th>eu_sales</th>\n",
       "      <th>jp_sales</th>\n",
       "      <th>other_sales</th>\n",
       "      <th>critic_score</th>\n",
       "      <th>user_score</th>\n",
       "      <th>rating</th>\n",
       "    </tr>\n",
       "  </thead>\n",
       "  <tbody>\n",
       "    <tr>\n",
       "      <td>0</td>\n",
       "      <td>Wii Sports</td>\n",
       "      <td>Wii</td>\n",
       "      <td>2006.0</td>\n",
       "      <td>Sports</td>\n",
       "      <td>41.36</td>\n",
       "      <td>28.96</td>\n",
       "      <td>3.77</td>\n",
       "      <td>8.45</td>\n",
       "      <td>76.0</td>\n",
       "      <td>8</td>\n",
       "      <td>E</td>\n",
       "    </tr>\n",
       "  </tbody>\n",
       "</table>\n",
       "</div>"
      ],
      "text/plain": [
       "         name platform  year_of_release   genre  na_sales  eu_sales  jp_sales  \\\n",
       "0  Wii Sports      Wii           2006.0  Sports     41.36     28.96      3.77   \n",
       "\n",
       "   other_sales  critic_score user_score rating  \n",
       "0         8.45          76.0          8      E  "
      ]
     },
     "execution_count": 5,
     "metadata": {},
     "output_type": "execute_result"
    }
   ],
   "source": [
    "games.columns = games_columns_lower\n",
    "games.head(1)"
   ]
  },
  {
   "cell_type": "markdown",
   "metadata": {},
   "source": [
    "### Изменение типов данных"
   ]
  },
  {
   "cell_type": "code",
   "execution_count": 6,
   "metadata": {},
   "outputs": [
    {
     "name": "stdout",
     "output_type": "stream",
     "text": [
      "<class 'pandas.core.frame.DataFrame'>\n",
      "RangeIndex: 16715 entries, 0 to 16714\n",
      "Data columns (total 11 columns):\n",
      "name               16713 non-null object\n",
      "platform           16715 non-null object\n",
      "year_of_release    16446 non-null float64\n",
      "genre              16713 non-null object\n",
      "na_sales           16715 non-null float64\n",
      "eu_sales           16715 non-null float64\n",
      "jp_sales           16715 non-null float64\n",
      "other_sales        16715 non-null float64\n",
      "critic_score       8137 non-null float64\n",
      "user_score         10014 non-null object\n",
      "rating             9949 non-null object\n",
      "dtypes: float64(6), object(5)\n",
      "memory usage: 1.4+ MB\n"
     ]
    }
   ],
   "source": [
    "games.info()"
   ]
  },
  {
   "cell_type": "markdown",
   "metadata": {},
   "source": [
    "1. К категориальному типа относятся следующие столбцы: name, platform, genre.  \n",
    "2. К порядковому типу относятся следующие столбцы: rating.  \n",
    "3. К количественному типу относятся следующие столбцы: \n",
    "    - непрерывные переменные: na_sales, eu_sales, jp_sales, other_sales\n",
    "    - дискретные переменные: ctitic_score, user_score\n",
    "4. К времененному типу данных относятся следующие столбцы: year_of_release."
   ]
  },
  {
   "cell_type": "markdown",
   "metadata": {},
   "source": [
    "Разберемся с тем, почему в столбце user_score тип данных object."
   ]
  },
  {
   "cell_type": "code",
   "execution_count": 7,
   "metadata": {},
   "outputs": [
    {
     "data": {
      "text/plain": [
       "tbd    2424\n",
       "7.8     324\n",
       "8       290\n",
       "8.2     282\n",
       "8.3     254\n",
       "       ... \n",
       "0.3       2\n",
       "0.2       2\n",
       "9.6       2\n",
       "0         1\n",
       "9.7       1\n",
       "Name: user_score, Length: 96, dtype: int64"
      ]
     },
     "execution_count": 7,
     "metadata": {},
     "output_type": "execute_result"
    }
   ],
   "source": [
    "games['user_score'].value_counts()"
   ]
  },
  {
   "cell_type": "markdown",
   "metadata": {},
   "source": [
    "Данный столбце имеет тип object, так как в нем хранится строковое значение tbd. Данное значение обозначает то, что рейтинг пользователи еще не выставили данной игре. Возможен случай того, что рейтинг пользователей в процессе подсчета, поэтому его нет, или собрано недостаточное количество оценок для того, чтобы выствить рейтинг игре со стороны пользователей. Объектов с данным значением признака 2424. Чтобы придать все-таки значение данному признаку, приравняем значение user_score к значению оценки, которую выставили критики (если оценка критиков заполнена каким-то числом, иначе значение tbd будет равно NaN). Приведем оценку критика к оценке пользователя, разделив оценку критику на 10."
   ]
  },
  {
   "cell_type": "code",
   "execution_count": 8,
   "metadata": {},
   "outputs": [
    {
     "data": {
      "text/plain": [
       "7.8    324\n",
       "8      290\n",
       "8.2    282\n",
       "8.3    254\n",
       "8.5    253\n",
       "      ... \n",
       "0        1\n",
       "3.0      1\n",
       "8.8      1\n",
       "8.5      1\n",
       "2.8      1\n",
       "Name: user_score, Length: 160, dtype: int64"
      ]
     },
     "execution_count": 8,
     "metadata": {},
     "output_type": "execute_result"
    }
   ],
   "source": [
    "games.loc[games['user_score'] == 'tbd', 'user_score'] = games.loc[games['user_score'] == 'tbd', 'critic_score'] / 10\n",
    "games['user_score'].value_counts()"
   ]
  },
  {
   "cell_type": "markdown",
   "metadata": {},
   "source": [
    "Приведем столбцы, тип которых не соответствует тому, который должен, к новому типу."
   ]
  },
  {
   "cell_type": "code",
   "execution_count": 9,
   "metadata": {},
   "outputs": [
    {
     "name": "stdout",
     "output_type": "stream",
     "text": [
      "int64\n"
     ]
    },
    {
     "data": {
      "text/html": [
       "<div>\n",
       "<style scoped>\n",
       "    .dataframe tbody tr th:only-of-type {\n",
       "        vertical-align: middle;\n",
       "    }\n",
       "\n",
       "    .dataframe tbody tr th {\n",
       "        vertical-align: top;\n",
       "    }\n",
       "\n",
       "    .dataframe thead th {\n",
       "        text-align: right;\n",
       "    }\n",
       "</style>\n",
       "<table border=\"1\" class=\"dataframe\">\n",
       "  <thead>\n",
       "    <tr style=\"text-align: right;\">\n",
       "      <th></th>\n",
       "      <th>name</th>\n",
       "      <th>platform</th>\n",
       "      <th>year_of_release</th>\n",
       "      <th>genre</th>\n",
       "      <th>na_sales</th>\n",
       "      <th>eu_sales</th>\n",
       "      <th>jp_sales</th>\n",
       "      <th>other_sales</th>\n",
       "      <th>critic_score</th>\n",
       "      <th>user_score</th>\n",
       "      <th>rating</th>\n",
       "    </tr>\n",
       "  </thead>\n",
       "  <tbody>\n",
       "    <tr>\n",
       "      <td>0</td>\n",
       "      <td>Wii Sports</td>\n",
       "      <td>Wii</td>\n",
       "      <td>2006</td>\n",
       "      <td>Sports</td>\n",
       "      <td>41.36</td>\n",
       "      <td>28.96</td>\n",
       "      <td>3.77</td>\n",
       "      <td>8.45</td>\n",
       "      <td>76.0</td>\n",
       "      <td>8</td>\n",
       "      <td>E</td>\n",
       "    </tr>\n",
       "    <tr>\n",
       "      <td>1</td>\n",
       "      <td>Super Mario Bros.</td>\n",
       "      <td>NES</td>\n",
       "      <td>1985</td>\n",
       "      <td>Platform</td>\n",
       "      <td>29.08</td>\n",
       "      <td>3.58</td>\n",
       "      <td>6.81</td>\n",
       "      <td>0.77</td>\n",
       "      <td>NaN</td>\n",
       "      <td>NaN</td>\n",
       "      <td>NaN</td>\n",
       "    </tr>\n",
       "    <tr>\n",
       "      <td>2</td>\n",
       "      <td>Mario Kart Wii</td>\n",
       "      <td>Wii</td>\n",
       "      <td>2008</td>\n",
       "      <td>Racing</td>\n",
       "      <td>15.68</td>\n",
       "      <td>12.76</td>\n",
       "      <td>3.79</td>\n",
       "      <td>3.29</td>\n",
       "      <td>82.0</td>\n",
       "      <td>8.3</td>\n",
       "      <td>E</td>\n",
       "    </tr>\n",
       "    <tr>\n",
       "      <td>3</td>\n",
       "      <td>Wii Sports Resort</td>\n",
       "      <td>Wii</td>\n",
       "      <td>2009</td>\n",
       "      <td>Sports</td>\n",
       "      <td>15.61</td>\n",
       "      <td>10.93</td>\n",
       "      <td>3.28</td>\n",
       "      <td>2.95</td>\n",
       "      <td>80.0</td>\n",
       "      <td>8</td>\n",
       "      <td>E</td>\n",
       "    </tr>\n",
       "    <tr>\n",
       "      <td>4</td>\n",
       "      <td>Pokemon Red/Pokemon Blue</td>\n",
       "      <td>GB</td>\n",
       "      <td>1996</td>\n",
       "      <td>Role-Playing</td>\n",
       "      <td>11.27</td>\n",
       "      <td>8.89</td>\n",
       "      <td>10.22</td>\n",
       "      <td>1.00</td>\n",
       "      <td>NaN</td>\n",
       "      <td>NaN</td>\n",
       "      <td>NaN</td>\n",
       "    </tr>\n",
       "  </tbody>\n",
       "</table>\n",
       "</div>"
      ],
      "text/plain": [
       "                       name platform  year_of_release         genre  na_sales  \\\n",
       "0                Wii Sports      Wii             2006        Sports     41.36   \n",
       "1         Super Mario Bros.      NES             1985      Platform     29.08   \n",
       "2            Mario Kart Wii      Wii             2008        Racing     15.68   \n",
       "3         Wii Sports Resort      Wii             2009        Sports     15.61   \n",
       "4  Pokemon Red/Pokemon Blue       GB             1996  Role-Playing     11.27   \n",
       "\n",
       "   eu_sales  jp_sales  other_sales  critic_score user_score rating  \n",
       "0     28.96      3.77         8.45          76.0          8      E  \n",
       "1      3.58      6.81         0.77           NaN        NaN    NaN  \n",
       "2     12.76      3.79         3.29          82.0        8.3      E  \n",
       "3     10.93      3.28         2.95          80.0          8      E  \n",
       "4      8.89     10.22         1.00           NaN        NaN    NaN  "
      ]
     },
     "execution_count": 9,
     "metadata": {},
     "output_type": "execute_result"
    }
   ],
   "source": [
    "games['year_of_release'] = games['year_of_release'].fillna(0) # ставлю заглушку\n",
    "games['year_of_release'] = games['year_of_release'].astype('int')\n",
    "\n",
    "print(games['year_of_release'].dtypes)\n",
    "games.head(5)"
   ]
  },
  {
   "cell_type": "code",
   "execution_count": 10,
   "metadata": {},
   "outputs": [
    {
     "name": "stdout",
     "output_type": "stream",
     "text": [
      "float64\n"
     ]
    }
   ],
   "source": [
    "games['user_score'] = pd.to_numeric(games['user_score'])\n",
    "print(games['user_score'].dtypes)"
   ]
  },
  {
   "cell_type": "markdown",
   "metadata": {},
   "source": [
    "#### Оптимизация данных"
   ]
  },
  {
   "cell_type": "code",
   "execution_count": 11,
   "metadata": {},
   "outputs": [],
   "source": [
    "\"\"\"\n",
    "Функция для подсчета использования памяти каким-либо типом данных.\n",
    "\"\"\"\n",
    "\n",
    "def mem_usage(pd_obj):\n",
    "    if isinstance(pd_obj, pd.DataFrame):\n",
    "        usage_b = pd_obj.memory_usage(deep=True).sum()\n",
    "    else:\n",
    "        usage_b = pd_obj.memory_usage(deep=True)\n",
    "    usage_mb = usage_b / 1024 ** 2\n",
    "    return \"{:03.2f} MB\".format(usage_mb)"
   ]
  },
  {
   "cell_type": "markdown",
   "metadata": {},
   "source": [
    "Оптимизируем числовые типы"
   ]
  },
  {
   "cell_type": "code",
   "execution_count": 12,
   "metadata": {},
   "outputs": [
    {
     "name": "stdout",
     "output_type": "stream",
     "text": [
      "Было: 0.13 MB\n",
      "Стало: 0.03 MB\n"
     ]
    }
   ],
   "source": [
    "games_int = games.select_dtypes(include=['int']) # для данных типов int\n",
    "converted_int = games_int.apply(pd.to_numeric, downcast='unsigned')\n",
    "\n",
    "print(f'Было: {mem_usage(games_int)}')\n",
    "print(f'Стало: {mem_usage(converted_int)}')"
   ]
  },
  {
   "cell_type": "code",
   "execution_count": 13,
   "metadata": {},
   "outputs": [
    {
     "name": "stdout",
     "output_type": "stream",
     "text": [
      "Было: 0.77 MB\n",
      "Стало: 0.38 MB\n"
     ]
    }
   ],
   "source": [
    "games_float = games.select_dtypes(include=['float'])\n",
    "converted_float = games_float.apply(pd.to_numeric, downcast='float')\n",
    "\n",
    "print(f'Было: {mem_usage(games_float)}')\n",
    "print(f'Стало: {mem_usage(converted_float)}')"
   ]
  },
  {
   "cell_type": "markdown",
   "metadata": {},
   "source": [
    "Оптимизировать категориальные не будем во избежание каких-либо проблем работы с данными."
   ]
  },
  {
   "cell_type": "markdown",
   "metadata": {},
   "source": [
    "Сохраним первоначальный датасет в отдельной переменной."
   ]
  },
  {
   "cell_type": "code",
   "execution_count": 14,
   "metadata": {},
   "outputs": [],
   "source": [
    "games_old = games\n",
    "games = games_old.copy()\n",
    "\n",
    "games[converted_int.columns] = converted_int\n",
    "games[converted_float.columns] = converted_float"
   ]
  },
  {
   "cell_type": "markdown",
   "metadata": {},
   "source": [
    "Посомотрим, как изменился объем памяти хранения данных."
   ]
  },
  {
   "cell_type": "code",
   "execution_count": 15,
   "metadata": {},
   "outputs": [
    {
     "name": "stdout",
     "output_type": "stream",
     "text": [
      "Было: 4.92 MB\n",
      "Стало: 4.44 MB\n"
     ]
    }
   ],
   "source": [
    "print(f'Было: {mem_usage(games_old)}')\n",
    "print(f'Стало: {mem_usage(games)}')"
   ]
  },
  {
   "cell_type": "code",
   "execution_count": 16,
   "metadata": {},
   "outputs": [
    {
     "name": "stdout",
     "output_type": "stream",
     "text": [
      "<class 'pandas.core.frame.DataFrame'>\n",
      "RangeIndex: 16715 entries, 0 to 16714\n",
      "Data columns (total 11 columns):\n",
      "name               16713 non-null object\n",
      "platform           16715 non-null object\n",
      "year_of_release    16715 non-null uint16\n",
      "genre              16713 non-null object\n",
      "na_sales           16715 non-null float32\n",
      "eu_sales           16715 non-null float32\n",
      "jp_sales           16715 non-null float32\n",
      "other_sales        16715 non-null float32\n",
      "critic_score       8137 non-null float32\n",
      "user_score         8672 non-null float32\n",
      "rating             9949 non-null object\n",
      "dtypes: float32(6), object(4), uint16(1)\n",
      "memory usage: 946.9+ KB\n"
     ]
    }
   ],
   "source": [
    "games.info()"
   ]
  },
  {
   "cell_type": "markdown",
   "metadata": {},
   "source": [
    "### Работа с дубликатами"
   ]
  },
  {
   "cell_type": "code",
   "execution_count": 17,
   "metadata": {},
   "outputs": [
    {
     "data": {
      "text/plain": [
       "0"
      ]
     },
     "execution_count": 17,
     "metadata": {},
     "output_type": "execute_result"
    }
   ],
   "source": [
    "games.duplicated().sum()"
   ]
  },
  {
   "cell_type": "markdown",
   "metadata": {},
   "source": [
    "Повторяющихся объектов в данной таблице нет."
   ]
  },
  {
   "cell_type": "code",
   "execution_count": 18,
   "metadata": {},
   "outputs": [
    {
     "data": {
      "text/plain": [
       "Need for Speed: Most Wanted                12\n",
       "Madden NFL 07                               9\n",
       "FIFA 14                                     9\n",
       "Ratatouille                                 9\n",
       "LEGO Marvel Super Heroes                    9\n",
       "                                           ..\n",
       "Dorabase DS: Dramatic Stadium               1\n",
       "Sloane to MacHale no Nazo no Monogatari     1\n",
       "Spider-Man: Battle for New York             1\n",
       "Armored Core 2                              1\n",
       "DX Game of Life                             1\n",
       "Name: name, Length: 11559, dtype: int64"
      ]
     },
     "execution_count": 18,
     "metadata": {},
     "output_type": "execute_result"
    }
   ],
   "source": [
    "games['name'].value_counts()"
   ]
  },
  {
   "cell_type": "markdown",
   "metadata": {},
   "source": [
    "Имеются повторяющиеся названия игр, которые можно установить на разные платформы."
   ]
  },
  {
   "cell_type": "code",
   "execution_count": 19,
   "metadata": {},
   "outputs": [
    {
     "data": {
      "text/plain": [
       "PS2     2161\n",
       "DS      2151\n",
       "PS3     1331\n",
       "Wii     1320\n",
       "X360    1262\n",
       "PSP     1209\n",
       "PS      1197\n",
       "PC       974\n",
       "XB       824\n",
       "GBA      822\n",
       "GC       556\n",
       "3DS      520\n",
       "PSV      430\n",
       "PS4      392\n",
       "N64      319\n",
       "XOne     247\n",
       "SNES     239\n",
       "SAT      173\n",
       "WiiU     147\n",
       "2600     133\n",
       "NES       98\n",
       "GB        98\n",
       "DC        52\n",
       "GEN       29\n",
       "NG        12\n",
       "WS         6\n",
       "SCD        6\n",
       "3DO        3\n",
       "TG16       2\n",
       "PCFX       1\n",
       "GG         1\n",
       "Name: platform, dtype: int64"
      ]
     },
     "execution_count": 19,
     "metadata": {},
     "output_type": "execute_result"
    }
   ],
   "source": [
    "games['platform'].value_counts()"
   ]
  },
  {
   "cell_type": "code",
   "execution_count": 20,
   "metadata": {},
   "outputs": [
    {
     "data": {
      "text/plain": [
       "Action          3369\n",
       "Sports          2348\n",
       "Misc            1750\n",
       "Role-Playing    1498\n",
       "Shooter         1323\n",
       "Adventure       1303\n",
       "Racing          1249\n",
       "Platform         888\n",
       "Simulation       873\n",
       "Fighting         849\n",
       "Strategy         683\n",
       "Puzzle           580\n",
       "Name: genre, dtype: int64"
      ]
     },
     "execution_count": 20,
     "metadata": {},
     "output_type": "execute_result"
    }
   ],
   "source": [
    "games['genre'].value_counts()"
   ]
  },
  {
   "cell_type": "code",
   "execution_count": 21,
   "metadata": {},
   "outputs": [
    {
     "data": {
      "text/plain": [
       "2008    1427\n",
       "2009    1426\n",
       "2010    1255\n",
       "2007    1197\n",
       "2011    1136\n",
       "2006    1006\n",
       "2005     939\n",
       "2002     829\n",
       "2003     775\n",
       "2004     762\n",
       "2012     653\n",
       "2015     606\n",
       "2014     581\n",
       "2013     544\n",
       "2016     502\n",
       "2001     482\n",
       "1998     379\n",
       "2000     350\n",
       "1999     338\n",
       "1997     289\n",
       "0        269\n",
       "1996     263\n",
       "1995     219\n",
       "1994     121\n",
       "1993      62\n",
       "1981      46\n",
       "1992      43\n",
       "1991      41\n",
       "1982      36\n",
       "1986      21\n",
       "1989      17\n",
       "1983      17\n",
       "1990      16\n",
       "1987      16\n",
       "1988      15\n",
       "1985      14\n",
       "1984      14\n",
       "1980       9\n",
       "Name: year_of_release, dtype: int64"
      ]
     },
     "execution_count": 21,
     "metadata": {},
     "output_type": "execute_result"
    }
   ],
   "source": [
    "games['year_of_release'].value_counts()"
   ]
  },
  {
   "cell_type": "code",
   "execution_count": 22,
   "metadata": {},
   "outputs": [
    {
     "data": {
      "text/plain": [
       "E       3990\n",
       "T       2961\n",
       "M       1563\n",
       "E10+    1420\n",
       "EC         8\n",
       "K-A        3\n",
       "RP         3\n",
       "AO         1\n",
       "Name: rating, dtype: int64"
      ]
     },
     "execution_count": 22,
     "metadata": {},
     "output_type": "execute_result"
    }
   ],
   "source": [
    "games['rating'].value_counts()"
   ]
  },
  {
   "cell_type": "code",
   "execution_count": 23,
   "metadata": {},
   "outputs": [
    {
     "data": {
      "text/plain": [
       "7.8    343\n",
       "8.0    296\n",
       "8.2    287\n",
       "7.5    273\n",
       "7.0    262\n",
       "      ... \n",
       "1.9      2\n",
       "0.7      2\n",
       "0.9      2\n",
       "0.0      1\n",
       "9.7      1\n",
       "Name: user_score, Length: 95, dtype: int64"
      ]
     },
     "execution_count": 23,
     "metadata": {},
     "output_type": "execute_result"
    }
   ],
   "source": [
    "games['user_score'].value_counts()"
   ]
  },
  {
   "cell_type": "markdown",
   "metadata": {},
   "source": [
    "### Работа с пропусками"
   ]
  },
  {
   "cell_type": "markdown",
   "metadata": {},
   "source": [
    "Выделяют три вида пропусков:\n",
    "- MCAR - абсолютно случайные пропуски, вероятность появления которых одинакова для каждой записи набора данных.\n",
    "- MAR - случайные пропуски, вероятность появления которых зависит от другой информации в данных.\n",
    "- MNAR - неслучайные пропуски, вероятность появления которых зависит от другой информации в данных, при этом информация по этим атрибутам может отсутствовать.\n",
    "\n",
    "Также пропуски разделяют по причине технологической и вызванной человеческим фактором."
   ]
  },
  {
   "cell_type": "code",
   "execution_count": 24,
   "metadata": {},
   "outputs": [
    {
     "data": {
      "text/plain": [
       "name                  2\n",
       "platform              0\n",
       "year_of_release       0\n",
       "genre                 2\n",
       "na_sales              0\n",
       "eu_sales              0\n",
       "jp_sales              0\n",
       "other_sales           0\n",
       "critic_score       8578\n",
       "user_score         8043\n",
       "rating             6766\n",
       "dtype: int64"
      ]
     },
     "execution_count": 24,
     "metadata": {},
     "output_type": "execute_result"
    }
   ],
   "source": [
    "games.isnull().sum()"
   ]
  },
  {
   "cell_type": "code",
   "execution_count": 25,
   "metadata": {},
   "outputs": [
    {
     "data": {
      "text/plain": [
       "critic_score       51.319174\n",
       "user_score         48.118456\n",
       "rating             40.478612\n",
       "genre               0.011965\n",
       "name                0.011965\n",
       "other_sales         0.000000\n",
       "jp_sales            0.000000\n",
       "eu_sales            0.000000\n",
       "na_sales            0.000000\n",
       "year_of_release     0.000000\n",
       "platform            0.000000\n",
       "dtype: float64"
      ]
     },
     "execution_count": 25,
     "metadata": {},
     "output_type": "execute_result"
    }
   ],
   "source": [
    "(games.isnull().sum() / games.shape[0] * 100).sort_values(ascending=False)"
   ]
  },
  {
   "cell_type": "markdown",
   "metadata": {},
   "source": [
    "*Столбец name*"
   ]
  },
  {
   "cell_type": "code",
   "execution_count": 26,
   "metadata": {},
   "outputs": [
    {
     "data": {
      "text/html": [
       "<div>\n",
       "<style scoped>\n",
       "    .dataframe tbody tr th:only-of-type {\n",
       "        vertical-align: middle;\n",
       "    }\n",
       "\n",
       "    .dataframe tbody tr th {\n",
       "        vertical-align: top;\n",
       "    }\n",
       "\n",
       "    .dataframe thead th {\n",
       "        text-align: right;\n",
       "    }\n",
       "</style>\n",
       "<table border=\"1\" class=\"dataframe\">\n",
       "  <thead>\n",
       "    <tr style=\"text-align: right;\">\n",
       "      <th></th>\n",
       "      <th>name</th>\n",
       "      <th>platform</th>\n",
       "      <th>year_of_release</th>\n",
       "      <th>genre</th>\n",
       "      <th>na_sales</th>\n",
       "      <th>eu_sales</th>\n",
       "      <th>jp_sales</th>\n",
       "      <th>other_sales</th>\n",
       "      <th>critic_score</th>\n",
       "      <th>user_score</th>\n",
       "      <th>rating</th>\n",
       "    </tr>\n",
       "  </thead>\n",
       "  <tbody>\n",
       "    <tr>\n",
       "      <td>659</td>\n",
       "      <td>NaN</td>\n",
       "      <td>GEN</td>\n",
       "      <td>1993</td>\n",
       "      <td>NaN</td>\n",
       "      <td>1.78</td>\n",
       "      <td>0.53</td>\n",
       "      <td>0.00</td>\n",
       "      <td>0.08</td>\n",
       "      <td>NaN</td>\n",
       "      <td>NaN</td>\n",
       "      <td>NaN</td>\n",
       "    </tr>\n",
       "    <tr>\n",
       "      <td>14244</td>\n",
       "      <td>NaN</td>\n",
       "      <td>GEN</td>\n",
       "      <td>1993</td>\n",
       "      <td>NaN</td>\n",
       "      <td>0.00</td>\n",
       "      <td>0.00</td>\n",
       "      <td>0.03</td>\n",
       "      <td>0.00</td>\n",
       "      <td>NaN</td>\n",
       "      <td>NaN</td>\n",
       "      <td>NaN</td>\n",
       "    </tr>\n",
       "  </tbody>\n",
       "</table>\n",
       "</div>"
      ],
      "text/plain": [
       "      name platform  year_of_release genre  na_sales  eu_sales  jp_sales  \\\n",
       "659    NaN      GEN             1993   NaN      1.78      0.53      0.00   \n",
       "14244  NaN      GEN             1993   NaN      0.00      0.00      0.03   \n",
       "\n",
       "       other_sales  critic_score  user_score rating  \n",
       "659           0.08           NaN         NaN    NaN  \n",
       "14244         0.00           NaN         NaN    NaN  "
      ]
     },
     "execution_count": 26,
     "metadata": {},
     "output_type": "execute_result"
    }
   ],
   "source": [
    "games.query('name.isnull() == True')"
   ]
  },
  {
   "cell_type": "markdown",
   "metadata": {},
   "source": [
    "Видим, что есть два объекта, данные о которых неизвестны не только по столбцу name, но и по столбца year_of_release, genre, ctitic_score, user_score, rating. Пропуски могли появится по причине, что при сборе данных данных по этим играм информации в источнике не было указано. Данный пропуск отнесем к типу MNAR. Поскольку всего два таких объекта, удаление их не скажется на результатах анализа данных. Этот способ также наиболее всего подходящий, так как восстановить пропуски не получится, особенно категориальные."
   ]
  },
  {
   "cell_type": "code",
   "execution_count": 27,
   "metadata": {},
   "outputs": [
    {
     "data": {
      "text/html": [
       "<div>\n",
       "<style scoped>\n",
       "    .dataframe tbody tr th:only-of-type {\n",
       "        vertical-align: middle;\n",
       "    }\n",
       "\n",
       "    .dataframe tbody tr th {\n",
       "        vertical-align: top;\n",
       "    }\n",
       "\n",
       "    .dataframe thead th {\n",
       "        text-align: right;\n",
       "    }\n",
       "</style>\n",
       "<table border=\"1\" class=\"dataframe\">\n",
       "  <thead>\n",
       "    <tr style=\"text-align: right;\">\n",
       "      <th></th>\n",
       "      <th>name</th>\n",
       "      <th>platform</th>\n",
       "      <th>year_of_release</th>\n",
       "      <th>genre</th>\n",
       "      <th>na_sales</th>\n",
       "      <th>eu_sales</th>\n",
       "      <th>jp_sales</th>\n",
       "      <th>other_sales</th>\n",
       "      <th>critic_score</th>\n",
       "      <th>user_score</th>\n",
       "      <th>rating</th>\n",
       "    </tr>\n",
       "  </thead>\n",
       "  <tbody>\n",
       "  </tbody>\n",
       "</table>\n",
       "</div>"
      ],
      "text/plain": [
       "Empty DataFrame\n",
       "Columns: [name, platform, year_of_release, genre, na_sales, eu_sales, jp_sales, other_sales, critic_score, user_score, rating]\n",
       "Index: []"
      ]
     },
     "execution_count": 27,
     "metadata": {},
     "output_type": "execute_result"
    }
   ],
   "source": [
    "idx_delete_elements = games.query('name.isnull() == True').index\n",
    "games.drop(idx_delete_elements, inplace=True)\n",
    "games.query('name.isnull() == True')"
   ]
  },
  {
   "cell_type": "markdown",
   "metadata": {},
   "source": [
    "*Столбцы user_score, critic_score и rating*"
   ]
  },
  {
   "cell_type": "markdown",
   "metadata": {},
   "source": [
    "Одна и та же игра на разных платформах будет иметь примерно один и тот же рейтинг и оценки пользователей и критиков на разных платформах. Такие пропуски возникли по причине тому, что данных вероятнее всего не было на какой-либо из платформ. Отнесем эти пропуски к типу MAR. Для заполнения пропусков создадим таблицу, в которой каждая игра будет хранить медианную оценку пользователей и критиков по всем платформам."
   ]
  },
  {
   "cell_type": "code",
   "execution_count": 28,
   "metadata": {},
   "outputs": [
    {
     "data": {
      "text/html": [
       "<div>\n",
       "<style scoped>\n",
       "    .dataframe tbody tr th:only-of-type {\n",
       "        vertical-align: middle;\n",
       "    }\n",
       "\n",
       "    .dataframe tbody tr th {\n",
       "        vertical-align: top;\n",
       "    }\n",
       "\n",
       "    .dataframe thead th {\n",
       "        text-align: right;\n",
       "    }\n",
       "</style>\n",
       "<table border=\"1\" class=\"dataframe\">\n",
       "  <thead>\n",
       "    <tr style=\"text-align: right;\">\n",
       "      <th></th>\n",
       "      <th>name</th>\n",
       "      <th>critic_score</th>\n",
       "      <th>user_score</th>\n",
       "    </tr>\n",
       "  </thead>\n",
       "  <tbody>\n",
       "    <tr>\n",
       "      <td>0</td>\n",
       "      <td>Tales of Xillia 2</td>\n",
       "      <td>71.0</td>\n",
       "      <td>7.9</td>\n",
       "    </tr>\n",
       "    <tr>\n",
       "      <td>1</td>\n",
       "      <td>.hack//Infection Part 1</td>\n",
       "      <td>75.0</td>\n",
       "      <td>8.5</td>\n",
       "    </tr>\n",
       "    <tr>\n",
       "      <td>2</td>\n",
       "      <td>.hack//Mutation Part 2</td>\n",
       "      <td>76.0</td>\n",
       "      <td>8.9</td>\n",
       "    </tr>\n",
       "    <tr>\n",
       "      <td>3</td>\n",
       "      <td>.hack//Outbreak Part 3</td>\n",
       "      <td>70.0</td>\n",
       "      <td>8.7</td>\n",
       "    </tr>\n",
       "    <tr>\n",
       "      <td>4</td>\n",
       "      <td>007 Racing</td>\n",
       "      <td>51.0</td>\n",
       "      <td>4.6</td>\n",
       "    </tr>\n",
       "    <tr>\n",
       "      <td>...</td>\n",
       "      <td>...</td>\n",
       "      <td>...</td>\n",
       "      <td>...</td>\n",
       "    </tr>\n",
       "    <tr>\n",
       "      <td>5292</td>\n",
       "      <td>inFAMOUS: Second Son</td>\n",
       "      <td>80.0</td>\n",
       "      <td>7.9</td>\n",
       "    </tr>\n",
       "    <tr>\n",
       "      <td>5293</td>\n",
       "      <td>nail'd</td>\n",
       "      <td>65.0</td>\n",
       "      <td>6.6</td>\n",
       "    </tr>\n",
       "    <tr>\n",
       "      <td>5294</td>\n",
       "      <td>pro evolution soccer 2011</td>\n",
       "      <td>78.0</td>\n",
       "      <td>5.9</td>\n",
       "    </tr>\n",
       "    <tr>\n",
       "      <td>5295</td>\n",
       "      <td>uDraw Studio</td>\n",
       "      <td>71.0</td>\n",
       "      <td>7.1</td>\n",
       "    </tr>\n",
       "    <tr>\n",
       "      <td>5296</td>\n",
       "      <td>uDraw Studio: Instant Artist</td>\n",
       "      <td>54.0</td>\n",
       "      <td>5.7</td>\n",
       "    </tr>\n",
       "  </tbody>\n",
       "</table>\n",
       "<p>5297 rows × 3 columns</p>\n",
       "</div>"
      ],
      "text/plain": [
       "                              name  critic_score  user_score\n",
       "0                Tales of Xillia 2          71.0         7.9\n",
       "1          .hack//Infection Part 1          75.0         8.5\n",
       "2           .hack//Mutation Part 2          76.0         8.9\n",
       "3           .hack//Outbreak Part 3          70.0         8.7\n",
       "4                       007 Racing          51.0         4.6\n",
       "...                            ...           ...         ...\n",
       "5292          inFAMOUS: Second Son          80.0         7.9\n",
       "5293                        nail'd          65.0         6.6\n",
       "5294     pro evolution soccer 2011          78.0         5.9\n",
       "5295                  uDraw Studio          71.0         7.1\n",
       "5296  uDraw Studio: Instant Artist          54.0         5.7\n",
       "\n",
       "[5297 rows x 3 columns]"
      ]
     },
     "execution_count": 28,
     "metadata": {},
     "output_type": "execute_result"
    }
   ],
   "source": [
    "game_critic_user_score = games.pivot_table(index='name', values=['user_score', 'critic_score'], aggfunc='median')\n",
    "game_critic_user_score.reset_index(inplace=True)\n",
    "game_critic_user_score['critic_score'] = game_critic_user_score['critic_score'].round(1)\n",
    "game_critic_user_score['user_score'] = game_critic_user_score['user_score'].round(1)\n",
    "game_critic_user_score"
   ]
  },
  {
   "cell_type": "code",
   "execution_count": 29,
   "metadata": {},
   "outputs": [
    {
     "data": {
      "text/plain": [
       "name              0\n",
       "critic_score    212\n",
       "user_score       20\n",
       "dtype: int64"
      ]
     },
     "execution_count": 29,
     "metadata": {},
     "output_type": "execute_result"
    }
   ],
   "source": [
    "game_critic_user_score.isnull().sum()"
   ]
  },
  {
   "cell_type": "markdown",
   "metadata": {},
   "source": [
    "Видим, что в таблице есть пропущенные значения. Удалим те значения, где пропуски есть и в том, и в другом столбце."
   ]
  },
  {
   "cell_type": "code",
   "execution_count": 30,
   "metadata": {},
   "outputs": [
    {
     "data": {
      "text/html": [
       "<div>\n",
       "<style scoped>\n",
       "    .dataframe tbody tr th:only-of-type {\n",
       "        vertical-align: middle;\n",
       "    }\n",
       "\n",
       "    .dataframe tbody tr th {\n",
       "        vertical-align: top;\n",
       "    }\n",
       "\n",
       "    .dataframe thead th {\n",
       "        text-align: right;\n",
       "    }\n",
       "</style>\n",
       "<table border=\"1\" class=\"dataframe\">\n",
       "  <thead>\n",
       "    <tr style=\"text-align: right;\">\n",
       "      <th></th>\n",
       "      <th>name</th>\n",
       "      <th>critic_score</th>\n",
       "      <th>user_score</th>\n",
       "    </tr>\n",
       "  </thead>\n",
       "  <tbody>\n",
       "  </tbody>\n",
       "</table>\n",
       "</div>"
      ],
      "text/plain": [
       "Empty DataFrame\n",
       "Columns: [name, critic_score, user_score]\n",
       "Index: []"
      ]
     },
     "execution_count": 30,
     "metadata": {},
     "output_type": "execute_result"
    }
   ],
   "source": [
    "game_critic_user_score.query('critic_score.isnull() == True and user_score.isnull() == True')"
   ]
  },
  {
   "cell_type": "markdown",
   "metadata": {},
   "source": [
    "Таких значений нет. Приведем значения оценки пользователей к оценке критиков, умножив на 10, и приведем значения критиков к оценке пользователей, разделив на 10."
   ]
  },
  {
   "cell_type": "code",
   "execution_count": 31,
   "metadata": {},
   "outputs": [
    {
     "data": {
      "text/plain": [
       "name            0\n",
       "critic_score    0\n",
       "user_score      0\n",
       "dtype: int64"
      ]
     },
     "execution_count": 31,
     "metadata": {},
     "output_type": "execute_result"
    }
   ],
   "source": [
    "game_critic_user_score.loc[game_critic_user_score['user_score'].isnull() == True, 'user_score'] = game_critic_user_score.loc[game_critic_user_score['user_score'].isnull() == True, 'critic_score'] / 10\n",
    "game_critic_user_score.loc[game_critic_user_score['critic_score'].isnull() == True, 'critic_score'] = game_critic_user_score.loc[game_critic_user_score['critic_score'].isnull() == True, 'user_score'] * 10\n",
    "game_critic_user_score.isnull().sum()"
   ]
  },
  {
   "cell_type": "code",
   "execution_count": 32,
   "metadata": {},
   "outputs": [],
   "source": [
    "unique_name_games = list(game_critic_user_score['name']) # вывожу список уникальных названий игр"
   ]
  },
  {
   "cell_type": "markdown",
   "metadata": {},
   "source": [
    "Рейтинг для одной и той же игры не должен по сути отличаться, поэтому найдем значение моды по рейтингу для каждой игры по всем платформам."
   ]
  },
  {
   "cell_type": "code",
   "execution_count": 33,
   "metadata": {},
   "outputs": [],
   "source": [
    "\"\"\"\n",
    "Функция, которая находит значение моды рейтинга для каждой игры (в случае если на разных платформах у нее стоит разный рейтинг).\n",
    "\"\"\"\n",
    "\n",
    "def mode_rating_for_game(row):\n",
    "    try:\n",
    "        name_game_row = row['name']\n",
    "        mode_rating_for_game = games.loc[games['name'] == name_game_row, 'rating'].mode()[0]\n",
    "        return mode_rating_for_game\n",
    "    except:\n",
    "        return 'no rating'"
   ]
  },
  {
   "cell_type": "code",
   "execution_count": 34,
   "metadata": {},
   "outputs": [
    {
     "data": {
      "text/html": [
       "<div>\n",
       "<style scoped>\n",
       "    .dataframe tbody tr th:only-of-type {\n",
       "        vertical-align: middle;\n",
       "    }\n",
       "\n",
       "    .dataframe tbody tr th {\n",
       "        vertical-align: top;\n",
       "    }\n",
       "\n",
       "    .dataframe thead th {\n",
       "        text-align: right;\n",
       "    }\n",
       "</style>\n",
       "<table border=\"1\" class=\"dataframe\">\n",
       "  <thead>\n",
       "    <tr style=\"text-align: right;\">\n",
       "      <th></th>\n",
       "      <th>name</th>\n",
       "      <th>critic_score</th>\n",
       "      <th>user_score</th>\n",
       "      <th>rating</th>\n",
       "    </tr>\n",
       "  </thead>\n",
       "  <tbody>\n",
       "    <tr>\n",
       "      <td>0</td>\n",
       "      <td>Tales of Xillia 2</td>\n",
       "      <td>71.0</td>\n",
       "      <td>7.9</td>\n",
       "      <td>T</td>\n",
       "    </tr>\n",
       "    <tr>\n",
       "      <td>1</td>\n",
       "      <td>.hack//Infection Part 1</td>\n",
       "      <td>75.0</td>\n",
       "      <td>8.5</td>\n",
       "      <td>T</td>\n",
       "    </tr>\n",
       "    <tr>\n",
       "      <td>2</td>\n",
       "      <td>.hack//Mutation Part 2</td>\n",
       "      <td>76.0</td>\n",
       "      <td>8.9</td>\n",
       "      <td>T</td>\n",
       "    </tr>\n",
       "    <tr>\n",
       "      <td>3</td>\n",
       "      <td>.hack//Outbreak Part 3</td>\n",
       "      <td>70.0</td>\n",
       "      <td>8.7</td>\n",
       "      <td>T</td>\n",
       "    </tr>\n",
       "    <tr>\n",
       "      <td>4</td>\n",
       "      <td>007 Racing</td>\n",
       "      <td>51.0</td>\n",
       "      <td>4.6</td>\n",
       "      <td>T</td>\n",
       "    </tr>\n",
       "    <tr>\n",
       "      <td>...</td>\n",
       "      <td>...</td>\n",
       "      <td>...</td>\n",
       "      <td>...</td>\n",
       "      <td>...</td>\n",
       "    </tr>\n",
       "    <tr>\n",
       "      <td>5292</td>\n",
       "      <td>inFAMOUS: Second Son</td>\n",
       "      <td>80.0</td>\n",
       "      <td>7.9</td>\n",
       "      <td>T</td>\n",
       "    </tr>\n",
       "    <tr>\n",
       "      <td>5293</td>\n",
       "      <td>nail'd</td>\n",
       "      <td>65.0</td>\n",
       "      <td>6.6</td>\n",
       "      <td>E10+</td>\n",
       "    </tr>\n",
       "    <tr>\n",
       "      <td>5294</td>\n",
       "      <td>pro evolution soccer 2011</td>\n",
       "      <td>78.0</td>\n",
       "      <td>5.9</td>\n",
       "      <td>E</td>\n",
       "    </tr>\n",
       "    <tr>\n",
       "      <td>5295</td>\n",
       "      <td>uDraw Studio</td>\n",
       "      <td>71.0</td>\n",
       "      <td>7.1</td>\n",
       "      <td>E</td>\n",
       "    </tr>\n",
       "    <tr>\n",
       "      <td>5296</td>\n",
       "      <td>uDraw Studio: Instant Artist</td>\n",
       "      <td>54.0</td>\n",
       "      <td>5.7</td>\n",
       "      <td>E</td>\n",
       "    </tr>\n",
       "  </tbody>\n",
       "</table>\n",
       "<p>5297 rows × 4 columns</p>\n",
       "</div>"
      ],
      "text/plain": [
       "                              name  critic_score  user_score rating\n",
       "0                Tales of Xillia 2          71.0         7.9      T\n",
       "1          .hack//Infection Part 1          75.0         8.5      T\n",
       "2           .hack//Mutation Part 2          76.0         8.9      T\n",
       "3           .hack//Outbreak Part 3          70.0         8.7      T\n",
       "4                       007 Racing          51.0         4.6      T\n",
       "...                            ...           ...         ...    ...\n",
       "5292          inFAMOUS: Second Son          80.0         7.9      T\n",
       "5293                        nail'd          65.0         6.6   E10+\n",
       "5294     pro evolution soccer 2011          78.0         5.9      E\n",
       "5295                  uDraw Studio          71.0         7.1      E\n",
       "5296  uDraw Studio: Instant Artist          54.0         5.7      E\n",
       "\n",
       "[5297 rows x 4 columns]"
      ]
     },
     "execution_count": 34,
     "metadata": {},
     "output_type": "execute_result"
    }
   ],
   "source": [
    "game_critic_user_score['rating'] = game_critic_user_score.apply(mode_rating_for_game, axis=1)\n",
    "game_critic_user_score"
   ]
  },
  {
   "cell_type": "code",
   "execution_count": 35,
   "metadata": {},
   "outputs": [
    {
     "data": {
      "text/plain": [
       "60"
      ]
     },
     "execution_count": 35,
     "metadata": {},
     "output_type": "execute_result"
    }
   ],
   "source": [
    "game_critic_user_score.query('rating == \"no rating\"').shape[0]"
   ]
  },
  {
   "cell_type": "markdown",
   "metadata": {},
   "source": [
    "Имеем 60 объектов, рейтинг которых не определен."
   ]
  },
  {
   "cell_type": "code",
   "execution_count": 36,
   "metadata": {},
   "outputs": [],
   "source": [
    "\"\"\"\n",
    "Функция, которая заполняет пропуски в столбце user_score,\n",
    "используя информацию по оценкам пользователей об игре на других платформах.\n",
    "\"\"\"\n",
    "\n",
    "def fill_gapes_user_score(row):\n",
    "    if row['user_score'] != row['user_score']:\n",
    "        name_game_row = row['name']\n",
    "        if name_game_row in unique_name_games:\n",
    "            user_score_row = game_critic_user_score.query('name == @name_game_row')['user_score'].values[0]\n",
    "            return user_score_row\n",
    "    else:\n",
    "        return row['user_score']"
   ]
  },
  {
   "cell_type": "code",
   "execution_count": 37,
   "metadata": {},
   "outputs": [
    {
     "name": "stdout",
     "output_type": "stream",
     "text": [
      "7279\n"
     ]
    },
    {
     "data": {
      "text/plain": [
       "0    8.0\n",
       "1    NaN\n",
       "2    8.3\n",
       "3    8.0\n",
       "4    NaN\n",
       "5    NaN\n",
       "6    8.5\n",
       "7    6.6\n",
       "8    8.4\n",
       "9    NaN\n",
       "Name: user_score, dtype: float64"
      ]
     },
     "execution_count": 37,
     "metadata": {},
     "output_type": "execute_result"
    }
   ],
   "source": [
    "games['user_score'] = games.apply(fill_gapes_user_score, axis=1)\n",
    "print(games['user_score'].isnull().sum())\n",
    "games['user_score'].head(10)"
   ]
  },
  {
   "cell_type": "markdown",
   "metadata": {},
   "source": [
    "Количество пропусков в столбце user_score с помощью такого подхода удалось снизить примерно на 10%."
   ]
  },
  {
   "cell_type": "code",
   "execution_count": 38,
   "metadata": {},
   "outputs": [],
   "source": [
    "\"\"\"\n",
    "Функция, которая заполняет пропуски в столбце critic_score,\n",
    "используя информацию по оценкам критиков об игре на других платформах.\n",
    "\"\"\"\n",
    "\n",
    "def fill_gapes_critic_score(row):\n",
    "    if row['critic_score'] != row['critic_score']:\n",
    "        name_game_row = row['name']\n",
    "        if name_game_row in unique_name_games:\n",
    "            user_score_row = game_critic_user_score.query('name == @name_game_row')['critic_score'].values[0]\n",
    "            return user_score_row\n",
    "    else:\n",
    "        return row['critic_score']"
   ]
  },
  {
   "cell_type": "code",
   "execution_count": 39,
   "metadata": {},
   "outputs": [
    {
     "name": "stdout",
     "output_type": "stream",
     "text": [
      "7279\n"
     ]
    },
    {
     "data": {
      "text/plain": [
       "0    76.0\n",
       "1     NaN\n",
       "2    82.0\n",
       "3    80.0\n",
       "4     NaN\n",
       "5     NaN\n",
       "6    89.0\n",
       "7    58.0\n",
       "8    87.0\n",
       "9     NaN\n",
       "Name: critic_score, dtype: float64"
      ]
     },
     "execution_count": 39,
     "metadata": {},
     "output_type": "execute_result"
    }
   ],
   "source": [
    "games['critic_score'] = games.apply(fill_gapes_critic_score, axis=1)\n",
    "print(games['critic_score'].isnull().sum())\n",
    "games['critic_score'].head(10)"
   ]
  },
  {
   "cell_type": "markdown",
   "metadata": {},
   "source": [
    "Количество пропусков в столбце critic_score с помощью такого подхода удалось сократить примерно на 15%."
   ]
  },
  {
   "cell_type": "code",
   "execution_count": 40,
   "metadata": {},
   "outputs": [],
   "source": [
    "\"\"\"\n",
    "Функция, которая заполняет пропуски в столбце rating,\n",
    "используя информацию по рейтингу об игре на других платформах.\n",
    "\"\"\"\n",
    "\n",
    "def fill_gapes_rating(row):\n",
    "    if row['rating'] != row['rating']:\n",
    "        name_game_row = row['name']\n",
    "        if name_game_row in unique_name_games:\n",
    "            rating_row = game_critic_user_score.query('name == @name_game_row')['rating'].values[0]\n",
    "            if rating_row != 'no rating':\n",
    "                return rating_row\n",
    "    else:\n",
    "        return row['rating']"
   ]
  },
  {
   "cell_type": "code",
   "execution_count": 41,
   "metadata": {},
   "outputs": [
    {
     "name": "stdout",
     "output_type": "stream",
     "text": [
      "6374\n"
     ]
    },
    {
     "data": {
      "text/plain": [
       "0       E\n",
       "1    None\n",
       "2       E\n",
       "3       E\n",
       "4    None\n",
       "5    None\n",
       "6       E\n",
       "7       E\n",
       "8       E\n",
       "9    None\n",
       "Name: rating, dtype: object"
      ]
     },
     "execution_count": 41,
     "metadata": {},
     "output_type": "execute_result"
    }
   ],
   "source": [
    "games['rating'] = games.apply(fill_gapes_rating, axis=1)\n",
    "print(games['rating'].isnull().sum())\n",
    "games['rating'].head(10)"
   ]
  },
  {
   "cell_type": "markdown",
   "metadata": {},
   "source": [
    "Количество пропусков в столбце rating с помощью такого подхода удалось сократить примерно на 5%."
   ]
  },
  {
   "cell_type": "markdown",
   "metadata": {},
   "source": [
    "Теперь попробуем понять то, какое количество объектов, где пропущены значения и в столбце user_score, и в столбце critic_score."
   ]
  },
  {
   "cell_type": "code",
   "execution_count": 42,
   "metadata": {},
   "outputs": [
    {
     "data": {
      "text/plain": [
       "7279"
      ]
     },
     "execution_count": 42,
     "metadata": {},
     "output_type": "execute_result"
    }
   ],
   "source": [
    "games.query('user_score.isnull() == True and critic_score.isnull() == True').shape[0]"
   ]
  },
  {
   "cell_type": "markdown",
   "metadata": {},
   "source": [
    "Таким образом, получаем 7279 объектов (это как раз то количество пропусков, которое у нас получилось выше и в том, и в другом столбцах) пропущены значения и в том, и в другом столбцах. Таких данных примерно 43% от общего числа объектов. Это не случайные пропуски. Данный тип пропусков отнесем к типу MNAR. Это достаточно большая доля, поэтому нужно подумать, как заполнить оставшиеся пропуски в столбцах critic_score и user_score."
   ]
  },
  {
   "cell_type": "code",
   "execution_count": 43,
   "metadata": {},
   "outputs": [
    {
     "data": {
      "text/html": [
       "<div>\n",
       "<style scoped>\n",
       "    .dataframe tbody tr th:only-of-type {\n",
       "        vertical-align: middle;\n",
       "    }\n",
       "\n",
       "    .dataframe tbody tr th {\n",
       "        vertical-align: top;\n",
       "    }\n",
       "\n",
       "    .dataframe thead th {\n",
       "        text-align: right;\n",
       "    }\n",
       "</style>\n",
       "<table border=\"1\" class=\"dataframe\">\n",
       "  <thead>\n",
       "    <tr style=\"text-align: right;\">\n",
       "      <th></th>\n",
       "      <th>name</th>\n",
       "      <th>platform</th>\n",
       "      <th>year_of_release</th>\n",
       "      <th>genre</th>\n",
       "      <th>na_sales</th>\n",
       "      <th>eu_sales</th>\n",
       "      <th>jp_sales</th>\n",
       "      <th>other_sales</th>\n",
       "      <th>critic_score</th>\n",
       "      <th>user_score</th>\n",
       "      <th>rating</th>\n",
       "    </tr>\n",
       "  </thead>\n",
       "  <tbody>\n",
       "    <tr>\n",
       "      <td>1</td>\n",
       "      <td>Super Mario Bros.</td>\n",
       "      <td>NES</td>\n",
       "      <td>1985</td>\n",
       "      <td>Platform</td>\n",
       "      <td>29.080000</td>\n",
       "      <td>3.58</td>\n",
       "      <td>6.81</td>\n",
       "      <td>0.77</td>\n",
       "      <td>NaN</td>\n",
       "      <td>NaN</td>\n",
       "      <td>None</td>\n",
       "    </tr>\n",
       "    <tr>\n",
       "      <td>4</td>\n",
       "      <td>Pokemon Red/Pokemon Blue</td>\n",
       "      <td>GB</td>\n",
       "      <td>1996</td>\n",
       "      <td>Role-Playing</td>\n",
       "      <td>11.270000</td>\n",
       "      <td>8.89</td>\n",
       "      <td>10.22</td>\n",
       "      <td>1.00</td>\n",
       "      <td>NaN</td>\n",
       "      <td>NaN</td>\n",
       "      <td>None</td>\n",
       "    </tr>\n",
       "    <tr>\n",
       "      <td>5</td>\n",
       "      <td>Tetris</td>\n",
       "      <td>GB</td>\n",
       "      <td>1989</td>\n",
       "      <td>Puzzle</td>\n",
       "      <td>23.200001</td>\n",
       "      <td>2.26</td>\n",
       "      <td>4.22</td>\n",
       "      <td>0.58</td>\n",
       "      <td>NaN</td>\n",
       "      <td>NaN</td>\n",
       "      <td>None</td>\n",
       "    </tr>\n",
       "    <tr>\n",
       "      <td>9</td>\n",
       "      <td>Duck Hunt</td>\n",
       "      <td>NES</td>\n",
       "      <td>1984</td>\n",
       "      <td>Shooter</td>\n",
       "      <td>26.930000</td>\n",
       "      <td>0.63</td>\n",
       "      <td>0.28</td>\n",
       "      <td>0.47</td>\n",
       "      <td>NaN</td>\n",
       "      <td>NaN</td>\n",
       "      <td>None</td>\n",
       "    </tr>\n",
       "    <tr>\n",
       "      <td>10</td>\n",
       "      <td>Nintendogs</td>\n",
       "      <td>DS</td>\n",
       "      <td>2005</td>\n",
       "      <td>Simulation</td>\n",
       "      <td>9.050000</td>\n",
       "      <td>10.95</td>\n",
       "      <td>1.93</td>\n",
       "      <td>2.74</td>\n",
       "      <td>NaN</td>\n",
       "      <td>NaN</td>\n",
       "      <td>None</td>\n",
       "    </tr>\n",
       "    <tr>\n",
       "      <td>...</td>\n",
       "      <td>...</td>\n",
       "      <td>...</td>\n",
       "      <td>...</td>\n",
       "      <td>...</td>\n",
       "      <td>...</td>\n",
       "      <td>...</td>\n",
       "      <td>...</td>\n",
       "      <td>...</td>\n",
       "      <td>...</td>\n",
       "      <td>...</td>\n",
       "      <td>...</td>\n",
       "    </tr>\n",
       "    <tr>\n",
       "      <td>16710</td>\n",
       "      <td>Samurai Warriors: Sanada Maru</td>\n",
       "      <td>PS3</td>\n",
       "      <td>2016</td>\n",
       "      <td>Action</td>\n",
       "      <td>0.000000</td>\n",
       "      <td>0.00</td>\n",
       "      <td>0.01</td>\n",
       "      <td>0.00</td>\n",
       "      <td>NaN</td>\n",
       "      <td>NaN</td>\n",
       "      <td>None</td>\n",
       "    </tr>\n",
       "    <tr>\n",
       "      <td>16711</td>\n",
       "      <td>LMA Manager 2007</td>\n",
       "      <td>X360</td>\n",
       "      <td>2006</td>\n",
       "      <td>Sports</td>\n",
       "      <td>0.000000</td>\n",
       "      <td>0.01</td>\n",
       "      <td>0.00</td>\n",
       "      <td>0.00</td>\n",
       "      <td>NaN</td>\n",
       "      <td>NaN</td>\n",
       "      <td>None</td>\n",
       "    </tr>\n",
       "    <tr>\n",
       "      <td>16712</td>\n",
       "      <td>Haitaka no Psychedelica</td>\n",
       "      <td>PSV</td>\n",
       "      <td>2016</td>\n",
       "      <td>Adventure</td>\n",
       "      <td>0.000000</td>\n",
       "      <td>0.00</td>\n",
       "      <td>0.01</td>\n",
       "      <td>0.00</td>\n",
       "      <td>NaN</td>\n",
       "      <td>NaN</td>\n",
       "      <td>None</td>\n",
       "    </tr>\n",
       "    <tr>\n",
       "      <td>16713</td>\n",
       "      <td>Spirits &amp; Spells</td>\n",
       "      <td>GBA</td>\n",
       "      <td>2003</td>\n",
       "      <td>Platform</td>\n",
       "      <td>0.010000</td>\n",
       "      <td>0.00</td>\n",
       "      <td>0.00</td>\n",
       "      <td>0.00</td>\n",
       "      <td>NaN</td>\n",
       "      <td>NaN</td>\n",
       "      <td>None</td>\n",
       "    </tr>\n",
       "    <tr>\n",
       "      <td>16714</td>\n",
       "      <td>Winning Post 8 2016</td>\n",
       "      <td>PSV</td>\n",
       "      <td>2016</td>\n",
       "      <td>Simulation</td>\n",
       "      <td>0.000000</td>\n",
       "      <td>0.00</td>\n",
       "      <td>0.01</td>\n",
       "      <td>0.00</td>\n",
       "      <td>NaN</td>\n",
       "      <td>NaN</td>\n",
       "      <td>None</td>\n",
       "    </tr>\n",
       "  </tbody>\n",
       "</table>\n",
       "<p>7279 rows × 11 columns</p>\n",
       "</div>"
      ],
      "text/plain": [
       "                                name platform  year_of_release         genre  \\\n",
       "1                  Super Mario Bros.      NES             1985      Platform   \n",
       "4           Pokemon Red/Pokemon Blue       GB             1996  Role-Playing   \n",
       "5                             Tetris       GB             1989        Puzzle   \n",
       "9                          Duck Hunt      NES             1984       Shooter   \n",
       "10                        Nintendogs       DS             2005    Simulation   \n",
       "...                              ...      ...              ...           ...   \n",
       "16710  Samurai Warriors: Sanada Maru      PS3             2016        Action   \n",
       "16711               LMA Manager 2007     X360             2006        Sports   \n",
       "16712        Haitaka no Psychedelica      PSV             2016     Adventure   \n",
       "16713               Spirits & Spells      GBA             2003      Platform   \n",
       "16714            Winning Post 8 2016      PSV             2016    Simulation   \n",
       "\n",
       "        na_sales  eu_sales  jp_sales  other_sales  critic_score  user_score  \\\n",
       "1      29.080000      3.58      6.81         0.77           NaN         NaN   \n",
       "4      11.270000      8.89     10.22         1.00           NaN         NaN   \n",
       "5      23.200001      2.26      4.22         0.58           NaN         NaN   \n",
       "9      26.930000      0.63      0.28         0.47           NaN         NaN   \n",
       "10      9.050000     10.95      1.93         2.74           NaN         NaN   \n",
       "...          ...       ...       ...          ...           ...         ...   \n",
       "16710   0.000000      0.00      0.01         0.00           NaN         NaN   \n",
       "16711   0.000000      0.01      0.00         0.00           NaN         NaN   \n",
       "16712   0.000000      0.00      0.01         0.00           NaN         NaN   \n",
       "16713   0.010000      0.00      0.00         0.00           NaN         NaN   \n",
       "16714   0.000000      0.00      0.01         0.00           NaN         NaN   \n",
       "\n",
       "      rating  \n",
       "1       None  \n",
       "4       None  \n",
       "5       None  \n",
       "9       None  \n",
       "10      None  \n",
       "...      ...  \n",
       "16710   None  \n",
       "16711   None  \n",
       "16712   None  \n",
       "16713   None  \n",
       "16714   None  \n",
       "\n",
       "[7279 rows x 11 columns]"
      ]
     },
     "execution_count": 43,
     "metadata": {},
     "output_type": "execute_result"
    }
   ],
   "source": [
    "games.query('critic_score.isnull() == True and user_score.isnull() == True')"
   ]
  },
  {
   "cell_type": "markdown",
   "metadata": {},
   "source": [
    "Можно предположить, что игры, у которых пропущены значения в данных столбцах, содержат платформы менее востребованные, а поскольку у данных игр также нет ни рейтингов, ни оценок, то для пользователей они не обладют высоким спросом. Отсюда можно сделать вывод, что данные объекты мы можем спокойно исключить из нашего анализа."
   ]
  },
  {
   "cell_type": "code",
   "execution_count": 44,
   "metadata": {},
   "outputs": [],
   "source": [
    "delete_objects = games.query('critic_score.isnull() == True and user_score.isnull() == True').index.tolist()"
   ]
  },
  {
   "cell_type": "code",
   "execution_count": 45,
   "metadata": {},
   "outputs": [],
   "source": [
    "games = games.drop(delete_objects)"
   ]
  },
  {
   "cell_type": "code",
   "execution_count": 46,
   "metadata": {},
   "outputs": [
    {
     "name": "stdout",
     "output_type": "stream",
     "text": [
      "Количество пропусков в столбце critic_score: 0\n",
      "Количество пропусков в столбце user_score: 0\n"
     ]
    }
   ],
   "source": [
    "print(f'Количество пропусков в столбце critic_score: {games[\"critic_score\"].isnull().sum()}')\n",
    "print(f'Количество пропусков в столбце user_score: {games[\"user_score\"].isnull().sum()}')"
   ]
  },
  {
   "cell_type": "markdown",
   "metadata": {},
   "source": [
    "Остается рассмотреть пропущенные значения в столбце rating."
   ]
  },
  {
   "cell_type": "code",
   "execution_count": 47,
   "metadata": {},
   "outputs": [
    {
     "data": {
      "text/plain": [
       "68"
      ]
     },
     "execution_count": 47,
     "metadata": {},
     "output_type": "execute_result"
    }
   ],
   "source": [
    "games['rating'].isnull().sum()"
   ]
  },
  {
   "cell_type": "markdown",
   "metadata": {},
   "source": [
    "Отнесем данные пропуски к типу MAR, исходя из идеи о том, что то, какой рейтинг будет выставлены коррелирует с тем, какой жанр у игры."
   ]
  },
  {
   "cell_type": "code",
   "execution_count": 48,
   "metadata": {},
   "outputs": [],
   "source": [
    "genre_list = games['genre'].unique().tolist()"
   ]
  },
  {
   "cell_type": "code",
   "execution_count": 49,
   "metadata": {},
   "outputs": [],
   "source": [
    "rating = []\n",
    "for genre in genre_list:\n",
    "    mode_for_genre = games.loc[games['genre'] == genre, 'rating'].mode()[0]\n",
    "    rating.append(mode_for_genre)"
   ]
  },
  {
   "cell_type": "code",
   "execution_count": 50,
   "metadata": {},
   "outputs": [
    {
     "data": {
      "text/html": [
       "<div>\n",
       "<style scoped>\n",
       "    .dataframe tbody tr th:only-of-type {\n",
       "        vertical-align: middle;\n",
       "    }\n",
       "\n",
       "    .dataframe tbody tr th {\n",
       "        vertical-align: top;\n",
       "    }\n",
       "\n",
       "    .dataframe thead th {\n",
       "        text-align: right;\n",
       "    }\n",
       "</style>\n",
       "<table border=\"1\" class=\"dataframe\">\n",
       "  <thead>\n",
       "    <tr style=\"text-align: right;\">\n",
       "      <th></th>\n",
       "      <th>genre</th>\n",
       "      <th>rating</th>\n",
       "    </tr>\n",
       "  </thead>\n",
       "  <tbody>\n",
       "    <tr>\n",
       "      <td>0</td>\n",
       "      <td>Sports</td>\n",
       "      <td>E</td>\n",
       "    </tr>\n",
       "    <tr>\n",
       "      <td>1</td>\n",
       "      <td>Racing</td>\n",
       "      <td>E</td>\n",
       "    </tr>\n",
       "    <tr>\n",
       "      <td>2</td>\n",
       "      <td>Platform</td>\n",
       "      <td>E</td>\n",
       "    </tr>\n",
       "    <tr>\n",
       "      <td>3</td>\n",
       "      <td>Misc</td>\n",
       "      <td>E</td>\n",
       "    </tr>\n",
       "    <tr>\n",
       "      <td>4</td>\n",
       "      <td>Action</td>\n",
       "      <td>T</td>\n",
       "    </tr>\n",
       "    <tr>\n",
       "      <td>5</td>\n",
       "      <td>Puzzle</td>\n",
       "      <td>E</td>\n",
       "    </tr>\n",
       "    <tr>\n",
       "      <td>6</td>\n",
       "      <td>Shooter</td>\n",
       "      <td>M</td>\n",
       "    </tr>\n",
       "    <tr>\n",
       "      <td>7</td>\n",
       "      <td>Fighting</td>\n",
       "      <td>T</td>\n",
       "    </tr>\n",
       "    <tr>\n",
       "      <td>8</td>\n",
       "      <td>Simulation</td>\n",
       "      <td>T</td>\n",
       "    </tr>\n",
       "    <tr>\n",
       "      <td>9</td>\n",
       "      <td>Role-Playing</td>\n",
       "      <td>T</td>\n",
       "    </tr>\n",
       "    <tr>\n",
       "      <td>10</td>\n",
       "      <td>Adventure</td>\n",
       "      <td>T</td>\n",
       "    </tr>\n",
       "    <tr>\n",
       "      <td>11</td>\n",
       "      <td>Strategy</td>\n",
       "      <td>T</td>\n",
       "    </tr>\n",
       "  </tbody>\n",
       "</table>\n",
       "</div>"
      ],
      "text/plain": [
       "           genre rating\n",
       "0         Sports      E\n",
       "1         Racing      E\n",
       "2       Platform      E\n",
       "3           Misc      E\n",
       "4         Action      T\n",
       "5         Puzzle      E\n",
       "6        Shooter      M\n",
       "7       Fighting      T\n",
       "8     Simulation      T\n",
       "9   Role-Playing      T\n",
       "10     Adventure      T\n",
       "11      Strategy      T"
      ]
     },
     "execution_count": 50,
     "metadata": {},
     "output_type": "execute_result"
    }
   ],
   "source": [
    "genre_rating_df = pd.DataFrame({\n",
    "    'genre': genre_list,\n",
    "    'rating': rating\n",
    "})\n",
    "genre_rating_df"
   ]
  },
  {
   "cell_type": "code",
   "execution_count": 51,
   "metadata": {},
   "outputs": [],
   "source": [
    "\"\"\"\n",
    "Функция, которая заполняет пропущенные значения в столбце rating, используя значения из таблицы genre_rating_df.\n",
    "\"\"\"\n",
    "\n",
    "def fill_gaps_rating_2(row):\n",
    "    if row['rating'] != None:\n",
    "        return row['rating']\n",
    "    else:\n",
    "        genre_row = row['genre']\n",
    "        new_rating_row = genre_rating_df.query('genre == @genre_row')['rating'].values[0]\n",
    "        return new_rating_row"
   ]
  },
  {
   "cell_type": "code",
   "execution_count": 52,
   "metadata": {},
   "outputs": [
    {
     "data": {
      "text/plain": [
       "0"
      ]
     },
     "execution_count": 52,
     "metadata": {},
     "output_type": "execute_result"
    }
   ],
   "source": [
    "games['rating'] = games.apply(fill_gaps_rating_2, axis=1)\n",
    "games['rating'].isnull().sum()"
   ]
  },
  {
   "cell_type": "markdown",
   "metadata": {},
   "source": [
    "Посмотрим на то, какие и где пропуски у нас еще остались."
   ]
  },
  {
   "cell_type": "code",
   "execution_count": 53,
   "metadata": {},
   "outputs": [
    {
     "data": {
      "text/plain": [
       "name               0\n",
       "platform           0\n",
       "year_of_release    0\n",
       "genre              0\n",
       "na_sales           0\n",
       "eu_sales           0\n",
       "jp_sales           0\n",
       "other_sales        0\n",
       "critic_score       0\n",
       "user_score         0\n",
       "rating             0\n",
       "dtype: int64"
      ]
     },
     "execution_count": 53,
     "metadata": {},
     "output_type": "execute_result"
    }
   ],
   "source": [
    "games.isnull().sum()"
   ]
  },
  {
   "cell_type": "markdown",
   "metadata": {},
   "source": [
    "*Столбец year_of_release*"
   ]
  },
  {
   "cell_type": "code",
   "execution_count": 54,
   "metadata": {},
   "outputs": [
    {
     "data": {
      "text/plain": [
       "0"
      ]
     },
     "execution_count": 54,
     "metadata": {},
     "output_type": "execute_result"
    }
   ],
   "source": [
    "games.loc[games['year_of_release'] == 0, 'year_of_release'].sum()"
   ]
  },
  {
   "cell_type": "markdown",
   "metadata": {},
   "source": [
    "Возможно появление пропусков в данном столбце связано с технической проблемой при выгрузке данных. Отнесем данный тип пропуска к MCAR. Чтобы заполнить значения, можно руками смотреть то, когда вышла каждая из игр, заполняя пропущенные значения. Оптимальным решением в данной ситуации будет оставить пропуски как есть и использовать остальную информацию по играм. При необходимости эти объекты можно будет удалить или заполнить случайными значения годов из определенного промежутка времени. Также можно посмотреть на игры, которые могут быть на разных платформах, вставив значение года при его наличии в пропуск."
   ]
  },
  {
   "cell_type": "markdown",
   "metadata": {},
   "source": [
    "### Суммарные продажи в регионах"
   ]
  },
  {
   "cell_type": "code",
   "execution_count": 55,
   "metadata": {},
   "outputs": [
    {
     "data": {
      "text/html": [
       "<div>\n",
       "<style scoped>\n",
       "    .dataframe tbody tr th:only-of-type {\n",
       "        vertical-align: middle;\n",
       "    }\n",
       "\n",
       "    .dataframe tbody tr th {\n",
       "        vertical-align: top;\n",
       "    }\n",
       "\n",
       "    .dataframe thead th {\n",
       "        text-align: right;\n",
       "    }\n",
       "</style>\n",
       "<table border=\"1\" class=\"dataframe\">\n",
       "  <thead>\n",
       "    <tr style=\"text-align: right;\">\n",
       "      <th></th>\n",
       "      <th>name</th>\n",
       "      <th>platform</th>\n",
       "      <th>year_of_release</th>\n",
       "      <th>genre</th>\n",
       "      <th>na_sales</th>\n",
       "      <th>eu_sales</th>\n",
       "      <th>jp_sales</th>\n",
       "      <th>other_sales</th>\n",
       "      <th>critic_score</th>\n",
       "      <th>user_score</th>\n",
       "      <th>rating</th>\n",
       "      <th>sum_sales</th>\n",
       "    </tr>\n",
       "  </thead>\n",
       "  <tbody>\n",
       "    <tr>\n",
       "      <td>0</td>\n",
       "      <td>Wii Sports</td>\n",
       "      <td>Wii</td>\n",
       "      <td>2006</td>\n",
       "      <td>Sports</td>\n",
       "      <td>41.360001</td>\n",
       "      <td>28.959999</td>\n",
       "      <td>3.77</td>\n",
       "      <td>8.45</td>\n",
       "      <td>76.0</td>\n",
       "      <td>8.0</td>\n",
       "      <td>E</td>\n",
       "      <td>82.539993</td>\n",
       "    </tr>\n",
       "    <tr>\n",
       "      <td>2</td>\n",
       "      <td>Mario Kart Wii</td>\n",
       "      <td>Wii</td>\n",
       "      <td>2008</td>\n",
       "      <td>Racing</td>\n",
       "      <td>15.680000</td>\n",
       "      <td>12.760000</td>\n",
       "      <td>3.79</td>\n",
       "      <td>3.29</td>\n",
       "      <td>82.0</td>\n",
       "      <td>8.3</td>\n",
       "      <td>E</td>\n",
       "      <td>35.520000</td>\n",
       "    </tr>\n",
       "    <tr>\n",
       "      <td>3</td>\n",
       "      <td>Wii Sports Resort</td>\n",
       "      <td>Wii</td>\n",
       "      <td>2009</td>\n",
       "      <td>Sports</td>\n",
       "      <td>15.610000</td>\n",
       "      <td>10.930000</td>\n",
       "      <td>3.28</td>\n",
       "      <td>2.95</td>\n",
       "      <td>80.0</td>\n",
       "      <td>8.0</td>\n",
       "      <td>E</td>\n",
       "      <td>32.770000</td>\n",
       "    </tr>\n",
       "    <tr>\n",
       "      <td>6</td>\n",
       "      <td>New Super Mario Bros.</td>\n",
       "      <td>DS</td>\n",
       "      <td>2006</td>\n",
       "      <td>Platform</td>\n",
       "      <td>11.280000</td>\n",
       "      <td>9.140000</td>\n",
       "      <td>6.50</td>\n",
       "      <td>2.88</td>\n",
       "      <td>89.0</td>\n",
       "      <td>8.5</td>\n",
       "      <td>E</td>\n",
       "      <td>29.799999</td>\n",
       "    </tr>\n",
       "    <tr>\n",
       "      <td>7</td>\n",
       "      <td>Wii Play</td>\n",
       "      <td>Wii</td>\n",
       "      <td>2006</td>\n",
       "      <td>Misc</td>\n",
       "      <td>13.960000</td>\n",
       "      <td>9.180000</td>\n",
       "      <td>2.93</td>\n",
       "      <td>2.84</td>\n",
       "      <td>58.0</td>\n",
       "      <td>6.6</td>\n",
       "      <td>E</td>\n",
       "      <td>28.910000</td>\n",
       "    </tr>\n",
       "  </tbody>\n",
       "</table>\n",
       "</div>"
      ],
      "text/plain": [
       "                    name platform  year_of_release     genre   na_sales  \\\n",
       "0             Wii Sports      Wii             2006    Sports  41.360001   \n",
       "2         Mario Kart Wii      Wii             2008    Racing  15.680000   \n",
       "3      Wii Sports Resort      Wii             2009    Sports  15.610000   \n",
       "6  New Super Mario Bros.       DS             2006  Platform  11.280000   \n",
       "7               Wii Play      Wii             2006      Misc  13.960000   \n",
       "\n",
       "    eu_sales  jp_sales  other_sales  critic_score  user_score rating  \\\n",
       "0  28.959999      3.77         8.45          76.0         8.0      E   \n",
       "2  12.760000      3.79         3.29          82.0         8.3      E   \n",
       "3  10.930000      3.28         2.95          80.0         8.0      E   \n",
       "6   9.140000      6.50         2.88          89.0         8.5      E   \n",
       "7   9.180000      2.93         2.84          58.0         6.6      E   \n",
       "\n",
       "   sum_sales  \n",
       "0  82.539993  \n",
       "2  35.520000  \n",
       "3  32.770000  \n",
       "6  29.799999  \n",
       "7  28.910000  "
      ]
     },
     "execution_count": 55,
     "metadata": {},
     "output_type": "execute_result"
    }
   ],
   "source": [
    "games['sum_sales'] = games['na_sales'] + games['eu_sales'] + games['jp_sales'] + games['other_sales']\n",
    "games.head(5)"
   ]
  },
  {
   "cell_type": "markdown",
   "metadata": {},
   "source": [
    "## Исследовательский анализ данных"
   ]
  },
  {
   "cell_type": "markdown",
   "metadata": {},
   "source": [
    "### Сколько игр выпускалось в разные года"
   ]
  },
  {
   "cell_type": "code",
   "execution_count": 56,
   "metadata": {},
   "outputs": [],
   "source": [
    "games_without_year = games.loc[games['year_of_release'] == 0]\n",
    "games = games.loc[games['year_of_release'] != 0]"
   ]
  },
  {
   "cell_type": "code",
   "execution_count": 57,
   "metadata": {},
   "outputs": [
    {
     "data": {
      "image/png": "[encoded data removed]",
      "text/plain": [
       "<Figure size 720x360 with 1 Axes>"
      ]
     },
     "metadata": {
      "needs_background": "light"
     },
     "output_type": "display_data"
    }
   ],
   "source": [
    "fig, ax = plt.subplots(figsize=(10, 5))\n",
    "sns.countplot(data=games, x='year_of_release', ax=ax, color='blue')\n",
    "plt.xticks(rotation=90)\n",
    "plt.title('Количество игр, выпущенных в год')\n",
    "plt.grid(axis='y')\n",
    "plt.show()"
   ]
  },
  {
   "cell_type": "markdown",
   "metadata": {},
   "source": [
    "#### Вывод"
   ]
  },
  {
   "cell_type": "markdown",
   "metadata": {},
   "source": [
    "Видим, что выпуск игр начал расти с 1994 года. Пиковым годом по количеству, выпущенных игр, являются 2008-2009 года. После произошел резкий спад в индустрии игр. Данные за период 1980-1993 не так важны, так как в этот период направление игр не было сильно развито, поэтому данные по этим играм мало какую информацию могут дать. Также рынок был не таким большим и компьютеры как и другие платформы были только на стадии развития для персонального пользования."
   ]
  },
  {
   "cell_type": "markdown",
   "metadata": {},
   "source": [
    "### Как менялись продажи по платформам"
   ]
  },
  {
   "cell_type": "markdown",
   "metadata": {},
   "source": [
    "Возьмем первые 10 платформ по количеству продаж."
   ]
  },
  {
   "cell_type": "code",
   "execution_count": 58,
   "metadata": {},
   "outputs": [
    {
     "data": {
      "text/html": [
       "<div>\n",
       "<style scoped>\n",
       "    .dataframe tbody tr th:only-of-type {\n",
       "        vertical-align: middle;\n",
       "    }\n",
       "\n",
       "    .dataframe tbody tr th {\n",
       "        vertical-align: top;\n",
       "    }\n",
       "\n",
       "    .dataframe thead th {\n",
       "        text-align: right;\n",
       "    }\n",
       "</style>\n",
       "<table border=\"1\" class=\"dataframe\">\n",
       "  <thead>\n",
       "    <tr style=\"text-align: right;\">\n",
       "      <th></th>\n",
       "      <th>platform</th>\n",
       "      <th>sum_sales</th>\n",
       "    </tr>\n",
       "  </thead>\n",
       "  <tbody>\n",
       "    <tr>\n",
       "      <td>12</td>\n",
       "      <td>PS2</td>\n",
       "      <td>1048.809937</td>\n",
       "    </tr>\n",
       "    <tr>\n",
       "      <td>21</td>\n",
       "      <td>X360</td>\n",
       "      <td>904.700012</td>\n",
       "    </tr>\n",
       "    <tr>\n",
       "      <td>13</td>\n",
       "      <td>PS3</td>\n",
       "      <td>849.169983</td>\n",
       "    </tr>\n",
       "    <tr>\n",
       "      <td>19</td>\n",
       "      <td>Wii</td>\n",
       "      <td>749.500000</td>\n",
       "    </tr>\n",
       "    <tr>\n",
       "      <td>3</td>\n",
       "      <td>DS</td>\n",
       "      <td>487.769989</td>\n",
       "    </tr>\n",
       "    <tr>\n",
       "      <td>14</td>\n",
       "      <td>PS4</td>\n",
       "      <td>264.329987</td>\n",
       "    </tr>\n",
       "    <tr>\n",
       "      <td>11</td>\n",
       "      <td>PS</td>\n",
       "      <td>263.980011</td>\n",
       "    </tr>\n",
       "    <tr>\n",
       "      <td>22</td>\n",
       "      <td>XB</td>\n",
       "      <td>230.330002</td>\n",
       "    </tr>\n",
       "    <tr>\n",
       "      <td>10</td>\n",
       "      <td>PC</td>\n",
       "      <td>215.479996</td>\n",
       "    </tr>\n",
       "    <tr>\n",
       "      <td>15</td>\n",
       "      <td>PSP</td>\n",
       "      <td>212.000000</td>\n",
       "    </tr>\n",
       "    <tr>\n",
       "      <td>5</td>\n",
       "      <td>GBA</td>\n",
       "      <td>186.020004</td>\n",
       "    </tr>\n",
       "    <tr>\n",
       "      <td>6</td>\n",
       "      <td>GC</td>\n",
       "      <td>173.519989</td>\n",
       "    </tr>\n",
       "    <tr>\n",
       "      <td>1</td>\n",
       "      <td>3DS</td>\n",
       "      <td>139.089996</td>\n",
       "    </tr>\n",
       "    <tr>\n",
       "      <td>23</td>\n",
       "      <td>XOne</td>\n",
       "      <td>138.750000</td>\n",
       "    </tr>\n",
       "    <tr>\n",
       "      <td>20</td>\n",
       "      <td>WiiU</td>\n",
       "      <td>71.489998</td>\n",
       "    </tr>\n",
       "  </tbody>\n",
       "</table>\n",
       "</div>"
      ],
      "text/plain": [
       "   platform    sum_sales\n",
       "12      PS2  1048.809937\n",
       "21     X360   904.700012\n",
       "13      PS3   849.169983\n",
       "19      Wii   749.500000\n",
       "3        DS   487.769989\n",
       "14      PS4   264.329987\n",
       "11       PS   263.980011\n",
       "22       XB   230.330002\n",
       "10       PC   215.479996\n",
       "15      PSP   212.000000\n",
       "5       GBA   186.020004\n",
       "6        GC   173.519989\n",
       "1       3DS   139.089996\n",
       "23     XOne   138.750000\n",
       "20     WiiU    71.489998"
      ]
     },
     "execution_count": 58,
     "metadata": {},
     "output_type": "execute_result"
    }
   ],
   "source": [
    "platform_sales = games.pivot_table(index='platform', values='sum_sales', aggfunc='sum')\n",
    "platform_sales.reset_index(inplace=True)\n",
    "platform_sales_top = platform_sales.sort_values(by='sum_sales', ascending=False)\n",
    "platform_sales_top = platform_sales_top.iloc[:15,:]\n",
    "platform_sales_top"
   ]
  },
  {
   "cell_type": "code",
   "execution_count": 59,
   "metadata": {},
   "outputs": [
    {
     "data": {
      "text/plain": [
       "['PS2',\n",
       " 'X360',\n",
       " 'PS3',\n",
       " 'Wii',\n",
       " 'DS',\n",
       " 'PS4',\n",
       " 'PS',\n",
       " 'XB',\n",
       " 'PC',\n",
       " 'PSP',\n",
       " 'GBA',\n",
       " 'GC',\n",
       " '3DS',\n",
       " 'XOne',\n",
       " 'WiiU']"
      ]
     },
     "execution_count": 59,
     "metadata": {},
     "output_type": "execute_result"
    }
   ],
   "source": [
    "platform_top = platform_sales_top['platform'].tolist() # получим список платформ, на которых сумма продаж была наибольшей\n",
    "platform_top"
   ]
  },
  {
   "cell_type": "code",
   "execution_count": 60,
   "metadata": {},
   "outputs": [
    {
     "data": {
      "image/png": "[encoded data removed]",
      "text/plain": [
       "<Figure size 720x3600 with 15 Axes>"
      ]
     },
     "metadata": {
      "needs_background": "light"
     },
     "output_type": "display_data"
    }
   ],
   "source": [
    "fig, ax = plt.subplots(ncols=1, nrows=len(platform_top), figsize=(10, 50), sharey=True)\n",
    "for platform in range(len(platform_top)):\n",
    "    name_platform = platform_top[platform]\n",
    "    sns.barplot(data=games.query('platform == @name_platform'), x='year_of_release', y='sum_sales', ax=ax[platform], ci=0, color='blue', alpha=0.5)\n",
    "    ax[platform].set_title(f'Зависимость суммы продаж от года для платформы - {platform_top[platform]}')\n",
    "    ax[platform].tick_params(labelrotation=90, axis='x')\n",
    "    ax[platform].grid(axis='y')\n",
    "\n",
    "plt.subplots_adjust(wspace=0, hspace=0.8)\n",
    "plt.show()"
   ]
  },
  {
   "cell_type": "markdown",
   "metadata": {},
   "source": [
    "У платформы Wii в 2006 году было продаж на сумму около 3 миллиардов долларов. На самом ли деле?"
   ]
  },
  {
   "cell_type": "code",
   "execution_count": 61,
   "metadata": {},
   "outputs": [
    {
     "data": {
      "text/html": [
       "<div>\n",
       "<style scoped>\n",
       "    .dataframe tbody tr th:only-of-type {\n",
       "        vertical-align: middle;\n",
       "    }\n",
       "\n",
       "    .dataframe tbody tr th {\n",
       "        vertical-align: top;\n",
       "    }\n",
       "\n",
       "    .dataframe thead th {\n",
       "        text-align: right;\n",
       "    }\n",
       "</style>\n",
       "<table border=\"1\" class=\"dataframe\">\n",
       "  <thead>\n",
       "    <tr style=\"text-align: right;\">\n",
       "      <th></th>\n",
       "      <th>name</th>\n",
       "      <th>platform</th>\n",
       "      <th>year_of_release</th>\n",
       "      <th>genre</th>\n",
       "      <th>na_sales</th>\n",
       "      <th>eu_sales</th>\n",
       "      <th>jp_sales</th>\n",
       "      <th>other_sales</th>\n",
       "      <th>critic_score</th>\n",
       "      <th>user_score</th>\n",
       "      <th>rating</th>\n",
       "      <th>sum_sales</th>\n",
       "    </tr>\n",
       "  </thead>\n",
       "  <tbody>\n",
       "    <tr>\n",
       "      <td>0</td>\n",
       "      <td>Wii Sports</td>\n",
       "      <td>Wii</td>\n",
       "      <td>2006</td>\n",
       "      <td>Sports</td>\n",
       "      <td>41.360001</td>\n",
       "      <td>28.959999</td>\n",
       "      <td>3.77</td>\n",
       "      <td>8.45</td>\n",
       "      <td>76.0</td>\n",
       "      <td>8.0</td>\n",
       "      <td>E</td>\n",
       "      <td>82.539993</td>\n",
       "    </tr>\n",
       "    <tr>\n",
       "      <td>7</td>\n",
       "      <td>Wii Play</td>\n",
       "      <td>Wii</td>\n",
       "      <td>2006</td>\n",
       "      <td>Misc</td>\n",
       "      <td>13.960000</td>\n",
       "      <td>9.180000</td>\n",
       "      <td>2.93</td>\n",
       "      <td>2.84</td>\n",
       "      <td>58.0</td>\n",
       "      <td>6.6</td>\n",
       "      <td>E</td>\n",
       "      <td>28.910000</td>\n",
       "    </tr>\n",
       "    <tr>\n",
       "      <td>107</td>\n",
       "      <td>The Legend of Zelda: Twilight Princess</td>\n",
       "      <td>Wii</td>\n",
       "      <td>2006</td>\n",
       "      <td>Action</td>\n",
       "      <td>3.740000</td>\n",
       "      <td>2.140000</td>\n",
       "      <td>0.60</td>\n",
       "      <td>0.68</td>\n",
       "      <td>95.0</td>\n",
       "      <td>9.0</td>\n",
       "      <td>T</td>\n",
       "      <td>7.160000</td>\n",
       "    </tr>\n",
       "    <tr>\n",
       "      <td>503</td>\n",
       "      <td>WarioWare: Smooth Moves</td>\n",
       "      <td>Wii</td>\n",
       "      <td>2006</td>\n",
       "      <td>Puzzle</td>\n",
       "      <td>0.860000</td>\n",
       "      <td>1.040000</td>\n",
       "      <td>0.73</td>\n",
       "      <td>0.26</td>\n",
       "      <td>83.0</td>\n",
       "      <td>7.4</td>\n",
       "      <td>E10+</td>\n",
       "      <td>2.890000</td>\n",
       "    </tr>\n",
       "    <tr>\n",
       "      <td>717</td>\n",
       "      <td>Super Monkey Ball: Banana Blitz</td>\n",
       "      <td>Wii</td>\n",
       "      <td>2006</td>\n",
       "      <td>Misc</td>\n",
       "      <td>1.050000</td>\n",
       "      <td>0.910000</td>\n",
       "      <td>0.04</td>\n",
       "      <td>0.24</td>\n",
       "      <td>74.0</td>\n",
       "      <td>5.7</td>\n",
       "      <td>E</td>\n",
       "      <td>2.240000</td>\n",
       "    </tr>\n",
       "  </tbody>\n",
       "</table>\n",
       "</div>"
      ],
      "text/plain": [
       "                                       name platform  year_of_release   genre  \\\n",
       "0                                Wii Sports      Wii             2006  Sports   \n",
       "7                                  Wii Play      Wii             2006    Misc   \n",
       "107  The Legend of Zelda: Twilight Princess      Wii             2006  Action   \n",
       "503                 WarioWare: Smooth Moves      Wii             2006  Puzzle   \n",
       "717         Super Monkey Ball: Banana Blitz      Wii             2006    Misc   \n",
       "\n",
       "      na_sales   eu_sales  jp_sales  other_sales  critic_score  user_score  \\\n",
       "0    41.360001  28.959999      3.77         8.45          76.0         8.0   \n",
       "7    13.960000   9.180000      2.93         2.84          58.0         6.6   \n",
       "107   3.740000   2.140000      0.60         0.68          95.0         9.0   \n",
       "503   0.860000   1.040000      0.73         0.26          83.0         7.4   \n",
       "717   1.050000   0.910000      0.04         0.24          74.0         5.7   \n",
       "\n",
       "    rating  sum_sales  \n",
       "0        E  82.539993  \n",
       "7        E  28.910000  \n",
       "107      T   7.160000  \n",
       "503   E10+   2.890000  \n",
       "717      E   2.240000  "
      ]
     },
     "execution_count": 61,
     "metadata": {},
     "output_type": "execute_result"
    }
   ],
   "source": [
    "games.query('year_of_release == 2006 and platform == \"Wii\"').sort_values(by='sum_sales', ascending=False).head(5)"
   ]
  },
  {
   "cell_type": "markdown",
   "metadata": {},
   "source": [
    "Похоже на правду..."
   ]
  },
  {
   "cell_type": "markdown",
   "metadata": {},
   "source": [
    "Скажем, что платформа исживает себя тогда, когда перестают идти продажи игр. Посчитаем то, сколько времени каждая из платформ пользовалась спросом.\n",
    "- PS2: 11 лет (2000-2011)\n",
    "- X360: 11 лет (2005-настоящее время)\n",
    "- PS3: 10 лет (2006-настоящее время)\n",
    "- Wii: 10 лет (2006-настоящее время)\n",
    "- DS: 9 лет (2004-2013)\n",
    "- PS: 9 лет (1994-2003)\n",
    "- GBA: 7 лет (2000-2007)\n",
    "- PS4: 4 года (2013-настоящее время)\n",
    "- PSP: 11 лет (2004-2015)\n",
    "- PC: 23 года (1992-настоящее время). Не берем в расчет 1985 и 1988 года\n",
    "- 3DS: 6 лет (2011-настоящее время)\n",
    "- XB: 9 лет (2000-2008)\n",
    "- GC: 7 лет (2001-2007)\n",
    "- N64: 7 лет (1996-2002)\n",
    "- XOne: 4 года (2013-настоящее время)"
   ]
  },
  {
   "cell_type": "markdown",
   "metadata": {},
   "source": [
    "Посмотрим последовательно на разницу лет между появлением платформ на рынке:\n",
    "1. PC (1992) - PS (1994): 2 года\n",
    "2. PS (1994) - GBA (2000) и PS2 (2000): 6 лет\n",
    "3. GBA (2000) и PS2 (2000) - DS (2004) и PSP (2004): 4 года\n",
    "4. DS (2004) и PSP (2004) - X360 (2005): 1 год\n",
    "5. X360 (2005) - PS3 (2006) и Wii (2006): 1 год\n",
    "6. Wii (2006) - PS4 (2013): 7 лет"
   ]
  },
  {
   "cell_type": "markdown",
   "metadata": {},
   "source": [
    "#### Вывод"
   ]
  },
  {
   "cell_type": "markdown",
   "metadata": {},
   "source": [
    "В среднем платформе требуется 10 лет (7-11 лет), чтобы \"исчезнуть\", и в среднем 4 (1-7 лет) года для того, чтобы появились новые платформы."
   ]
  },
  {
   "cell_type": "markdown",
   "metadata": {},
   "source": [
    "### Актуальный период"
   ]
  },
  {
   "cell_type": "markdown",
   "metadata": {},
   "source": [
    "Определим актуальный период, который позволит сделать прогноз на 2017 год. Для анализа возьмем такой период, в течение которого точно присутствуют платформы, спрос на которые по-прежнему востребован в настоящее время, рынок игр развит. Возьмем период от 2005 до 2016 года."
   ]
  },
  {
   "cell_type": "code",
   "execution_count": 62,
   "metadata": {},
   "outputs": [],
   "source": [
    "games_old = games.copy()"
   ]
  },
  {
   "cell_type": "code",
   "execution_count": 63,
   "metadata": {},
   "outputs": [
    {
     "data": {
      "text/plain": [
       "(6694, 12)"
      ]
     },
     "execution_count": 63,
     "metadata": {},
     "output_type": "execute_result"
    }
   ],
   "source": [
    "games = games.query('year_of_release >= 2005')\n",
    "games.shape"
   ]
  },
  {
   "cell_type": "markdown",
   "metadata": {},
   "source": [
    "Количество данных сократилось на 37.5% относительно первоначального объема."
   ]
  },
  {
   "cell_type": "markdown",
   "metadata": {},
   "source": [
    "### Потенциально прибыльные платформы"
   ]
  },
  {
   "cell_type": "code",
   "execution_count": 64,
   "metadata": {},
   "outputs": [
    {
     "data": {
      "image/png": "[encoded data removed]",
      "text/plain": [
       "<Figure size 432x288 with 1 Axes>"
      ]
     },
     "metadata": {
      "needs_background": "light"
     },
     "output_type": "display_data"
    }
   ],
   "source": [
    "sns.barplot(data=platform_sales_top, y='platform', x='sum_sales', orient='h', color='darkslategrey')\n",
    "plt.title('Суммарные объемы продаж по каждой из платформ')\n",
    "plt.xlabel('Объемы продаж, млн. долларов')\n",
    "plt.ylabel('Платформы')\n",
    "plt.grid(axis='x')\n",
    "plt.show()"
   ]
  },
  {
   "cell_type": "markdown",
   "metadata": {},
   "source": [
    "Платформы PS2, X360, PS3, Wii, DS, PS лидируют по продажам."
   ]
  },
  {
   "cell_type": "markdown",
   "metadata": {},
   "source": [
    "Отвечая на вопрос, какие платформы подают и растут, нужно знать конкретный период, за который рассматриваем. Платформы, которые пользуются спросом сейчас и которые имеют наибольшее число продаж, следующие: X360, PS3, Wii, PS4, PC, 3DS, XOne. Рассмотрим, как ведут себя продажи по этим платформам, чтобы определить какие платформы потенциально прибыльные. Для этого построим сводную таблицу с медианными суммами продаж в разные года. Это нужно для того, чтобы при построении графиков, недостаток, связанный с разным балансом данных в разные года ушел."
   ]
  },
  {
   "cell_type": "code",
   "execution_count": 65,
   "metadata": {},
   "outputs": [],
   "source": [
    "platform_now = ['X360', 'PS3', 'Wii', 'PS4', 'PC', '3DS', 'XOne']\n",
    "data_platform_now = games.query('platform in @platform_now')\n",
    "mean_sales_platform_now = data_platform_now.pivot_table(index=['platform', 'year_of_release'], values='sum_sales', aggfunc='mean')\n",
    "mean_sales_platform_now.reset_index(inplace=True)\n",
    "\n",
    "mean_sales_platform_now.fillna(0, inplace=True)"
   ]
  },
  {
   "cell_type": "code",
   "execution_count": 66,
   "metadata": {},
   "outputs": [
    {
     "data": {
      "image/png": "[encoded data removed]",
      "text/plain": [
       "<Figure size 1440x720 with 1 Axes>"
      ]
     },
     "metadata": {
      "needs_background": "light"
     },
     "output_type": "display_data"
    }
   ],
   "source": [
    "fig, ax = plt.subplots(figsize=(20, 10))\n",
    "sns.set(style='whitegrid')\n",
    "sns.lineplot(data=mean_sales_platform_now, x='year_of_release', y='sum_sales', hue='platform', ci=None, palette='bright')\n",
    "plt.title('График, показывающий объем продаж в зависимости от года')\n",
    "plt.xlabel('Год')\n",
    "plt.ylabel('Объем продаж, млн. долларов')\n",
    "plt.show()"
   ]
  },
  {
   "cell_type": "markdown",
   "metadata": {},
   "source": [
    "Получаем, что потенциально прибыльными платформами можно назвать 3DS, наблюдаем небольшой рост продаж в период 2015-2016, PS4, так как хоть и видим спад продаж, но при этом он наибольший относительно продаж других платформ. На втором по продажам в конце 2016 года - XOne. Продажи игр на платформе PC можно предположить, что будут всегда стабильно на одном уровне. По платформам PS3, X360 и Wii наблюдаем резки спад в продажах."
   ]
  },
  {
   "cell_type": "markdown",
   "metadata": {},
   "source": [
    "#### Вывод"
   ]
  },
  {
   "cell_type": "markdown",
   "metadata": {},
   "source": [
    "Потенциально прибыльными платформами являются 3DS, PS4, XOne и PC."
   ]
  },
  {
   "cell_type": "markdown",
   "metadata": {},
   "source": [
    "### График «ящик с усами» по глобальным продажам каждой игры и разбивкой по платформам."
   ]
  },
  {
   "cell_type": "code",
   "execution_count": 67,
   "metadata": {},
   "outputs": [],
   "source": [
    "games = pd.concat([games, games_without_year]) # присоединяю массив данных, в которых пропущен год\n",
    "games = games.query('year_of_release >= 2005')"
   ]
  },
  {
   "cell_type": "code",
   "execution_count": 68,
   "metadata": {},
   "outputs": [
    {
     "data": {
      "image/png": "[encoded data removed]",
      "text/plain": [
       "<Figure size 1440x720 with 1 Axes>"
      ]
     },
     "metadata": {},
     "output_type": "display_data"
    }
   ],
   "source": [
    "fig, ax = plt.subplots(figsize=(20, 10))\n",
    "sns.set(style='whitegrid')\n",
    "sns.boxplot(data=games, x='platform', y='sum_sales', ax=ax, color='c')\n",
    "plt.ylim(0, 1)\n",
    "plt.title('График \"Ящик с усами\", иллюстрирующий распределение значений продаж по каждой платформе')\n",
    "plt.ylabel('Объем продаж, млн. долларов')\n",
    "plt.xlabel('Платформы')\n",
    "plt.show()"
   ]
  },
  {
   "cell_type": "markdown",
   "metadata": {},
   "source": [
    "Делая вывод о различиях в продаж между платформами, можно выделить похожие распредления ящиков с усами в отдельные группы, показав разницу между ними (при сравнении групп выбросы не берем в расчет):\n",
    "- Первая группа: X360, PS3, PS4 и XOne \n",
    "\n",
    "Большинство продаж в данной группе достигает значения от 0.1 до 0.8 млн. долларов. Медианное значение находится на уровне выше 0.2-0.3 млн. долларов. Платформы PS3 и PS4 изготовлены одним и тем же производителем как и у платформ XOne и X360.\n",
    "- Вторая группа: Wii, WiiU и PS2 \n",
    "\n",
    "Большинство продаж в данной группе достигает значения от 0.1 до 0.5 млн. долларов. Медианное значение находится на уровне выше 0.2 млн. долларов. Платформы Wii и WiiU изготовлены одним и тем же производителем.\n",
    "- Третья группа: DS, 3DS, GBA, XB и GC \n",
    "\n",
    "Большинство продаж в данной группе достигает значения от 0.05 до 0.3 млн. долларов. Медианное значение находится на уровне выше 0.1 млн. долларов. Платформы DS и 3DS изготовлены одним и тем же производителем.\n",
    "- Четвертая группа: PC, PSP, PSV и DC\n",
    "\n",
    "Большинство продаж в данной группе достигает значения от 0 до 0.2 млн. долларов. Медианное значение находится на уровне выше 0.05 млн. долларов. Платформы Wii и WiiU изготовлены одним и тем же производителем."
   ]
  },
  {
   "cell_type": "code",
   "execution_count": 69,
   "metadata": {},
   "outputs": [
    {
     "data": {
      "text/html": [
       "<div>\n",
       "<style scoped>\n",
       "    .dataframe tbody tr th:only-of-type {\n",
       "        vertical-align: middle;\n",
       "    }\n",
       "\n",
       "    .dataframe tbody tr th {\n",
       "        vertical-align: top;\n",
       "    }\n",
       "\n",
       "    .dataframe thead th {\n",
       "        text-align: right;\n",
       "    }\n",
       "</style>\n",
       "<table border=\"1\" class=\"dataframe\">\n",
       "  <thead>\n",
       "    <tr style=\"text-align: right;\">\n",
       "      <th></th>\n",
       "      <th>platform</th>\n",
       "      <th>sum_sales</th>\n",
       "    </tr>\n",
       "  </thead>\n",
       "  <tbody>\n",
       "    <tr>\n",
       "      <td>9</td>\n",
       "      <td>PSV</td>\n",
       "      <td>0.224734</td>\n",
       "    </tr>\n",
       "    <tr>\n",
       "      <td>4</td>\n",
       "      <td>PC</td>\n",
       "      <td>0.236078</td>\n",
       "    </tr>\n",
       "    <tr>\n",
       "      <td>2</td>\n",
       "      <td>GBA</td>\n",
       "      <td>0.238219</td>\n",
       "    </tr>\n",
       "    <tr>\n",
       "      <td>13</td>\n",
       "      <td>XB</td>\n",
       "      <td>0.239422</td>\n",
       "    </tr>\n",
       "    <tr>\n",
       "      <td>3</td>\n",
       "      <td>GC</td>\n",
       "      <td>0.293419</td>\n",
       "    </tr>\n",
       "    <tr>\n",
       "      <td>8</td>\n",
       "      <td>PSP</td>\n",
       "      <td>0.397452</td>\n",
       "    </tr>\n",
       "    <tr>\n",
       "      <td>5</td>\n",
       "      <td>PS2</td>\n",
       "      <td>0.570462</td>\n",
       "    </tr>\n",
       "    <tr>\n",
       "      <td>1</td>\n",
       "      <td>DS</td>\n",
       "      <td>0.582200</td>\n",
       "    </tr>\n",
       "    <tr>\n",
       "      <td>11</td>\n",
       "      <td>WiiU</td>\n",
       "      <td>0.627105</td>\n",
       "    </tr>\n",
       "    <tr>\n",
       "      <td>0</td>\n",
       "      <td>3DS</td>\n",
       "      <td>0.649953</td>\n",
       "    </tr>\n",
       "    <tr>\n",
       "      <td>14</td>\n",
       "      <td>XOne</td>\n",
       "      <td>0.670290</td>\n",
       "    </tr>\n",
       "    <tr>\n",
       "      <td>6</td>\n",
       "      <td>PS3</td>\n",
       "      <td>0.894805</td>\n",
       "    </tr>\n",
       "    <tr>\n",
       "      <td>12</td>\n",
       "      <td>X360</td>\n",
       "      <td>0.895743</td>\n",
       "    </tr>\n",
       "    <tr>\n",
       "      <td>7</td>\n",
       "      <td>PS4</td>\n",
       "      <td>0.905240</td>\n",
       "    </tr>\n",
       "    <tr>\n",
       "      <td>10</td>\n",
       "      <td>Wii</td>\n",
       "      <td>1.038089</td>\n",
       "    </tr>\n",
       "  </tbody>\n",
       "</table>\n",
       "</div>"
      ],
      "text/plain": [
       "   platform  sum_sales\n",
       "9       PSV   0.224734\n",
       "4        PC   0.236078\n",
       "2       GBA   0.238219\n",
       "13       XB   0.239422\n",
       "3        GC   0.293419\n",
       "8       PSP   0.397452\n",
       "5       PS2   0.570462\n",
       "1        DS   0.582200\n",
       "11     WiiU   0.627105\n",
       "0       3DS   0.649953\n",
       "14     XOne   0.670290\n",
       "6       PS3   0.894805\n",
       "12     X360   0.895743\n",
       "7       PS4   0.905240\n",
       "10      Wii   1.038089"
      ]
     },
     "execution_count": 69,
     "metadata": {},
     "output_type": "execute_result"
    }
   ],
   "source": [
    "mean_sales = games.pivot_table(index='platform', values='sum_sales', aggfunc='mean')\n",
    "mean_sales.reset_index(inplace=True)\n",
    "mean_sales.sort_values(by='sum_sales')"
   ]
  },
  {
   "cell_type": "markdown",
   "metadata": {},
   "source": [
    "Средние продажи разделим по границам (млн. долларов):\n",
    "- больше 70: PS3, X360 и PS4\n",
    "- 50-70: 3DS, WiiU, Wii и XOne\n",
    "- 30-50: DS и PS2\n",
    "- 20-30: PC, GBA, PSP, XB и GC\n",
    "- 0-20: DC и PSV"
   ]
  },
  {
   "cell_type": "markdown",
   "metadata": {},
   "source": [
    "#### Вывод"
   ]
  },
  {
   "cell_type": "markdown",
   "metadata": {},
   "source": [
    "Платформами с наибольшими продажами являются X360, PS3, PS4, XOne, Wii и WiiU.  \n",
    "Также востребованные, но пользующиеся меньшим спрос по сравнению с группой выше: 3DS, DS и PS2.  \n",
    "Платформы с наименьшими продажами PC, PSP, GBA, XB, GC, DC и PSV."
   ]
  },
  {
   "cell_type": "markdown",
   "metadata": {},
   "source": [
    "### Влияние отзывов пользовталей и критиков на продажи внутри одной популярной платформы"
   ]
  },
  {
   "cell_type": "markdown",
   "metadata": {},
   "source": [
    "Рассмотрим платформу PS3."
   ]
  },
  {
   "cell_type": "markdown",
   "metadata": {},
   "source": [
    "Посмотрим на то, как оценка пользователей и критиков соотносится между собой."
   ]
  },
  {
   "cell_type": "code",
   "execution_count": 70,
   "metadata": {},
   "outputs": [
    {
     "data": {
      "text/html": [
       "<div>\n",
       "<style scoped>\n",
       "    .dataframe tbody tr th:only-of-type {\n",
       "        vertical-align: middle;\n",
       "    }\n",
       "\n",
       "    .dataframe tbody tr th {\n",
       "        vertical-align: top;\n",
       "    }\n",
       "\n",
       "    .dataframe thead th {\n",
       "        text-align: right;\n",
       "    }\n",
       "</style>\n",
       "<table border=\"1\" class=\"dataframe\">\n",
       "  <thead>\n",
       "    <tr style=\"text-align: right;\">\n",
       "      <th></th>\n",
       "      <th>name</th>\n",
       "      <th>platform</th>\n",
       "      <th>year_of_release</th>\n",
       "      <th>genre</th>\n",
       "      <th>na_sales</th>\n",
       "      <th>eu_sales</th>\n",
       "      <th>jp_sales</th>\n",
       "      <th>other_sales</th>\n",
       "      <th>critic_score</th>\n",
       "      <th>user_score</th>\n",
       "      <th>rating</th>\n",
       "      <th>sum_sales</th>\n",
       "    </tr>\n",
       "  </thead>\n",
       "  <tbody>\n",
       "    <tr>\n",
       "      <td>16</td>\n",
       "      <td>Grand Theft Auto V</td>\n",
       "      <td>PS3</td>\n",
       "      <td>2013</td>\n",
       "      <td>Action</td>\n",
       "      <td>7.02</td>\n",
       "      <td>9.09</td>\n",
       "      <td>0.98</td>\n",
       "      <td>3.96</td>\n",
       "      <td>97.0</td>\n",
       "      <td>8.2</td>\n",
       "      <td>M</td>\n",
       "      <td>21.049999</td>\n",
       "    </tr>\n",
       "    <tr>\n",
       "      <td>34</td>\n",
       "      <td>Call of Duty: Black Ops II</td>\n",
       "      <td>PS3</td>\n",
       "      <td>2012</td>\n",
       "      <td>Shooter</td>\n",
       "      <td>4.99</td>\n",
       "      <td>5.73</td>\n",
       "      <td>0.65</td>\n",
       "      <td>2.42</td>\n",
       "      <td>83.0</td>\n",
       "      <td>5.3</td>\n",
       "      <td>M</td>\n",
       "      <td>13.789999</td>\n",
       "    </tr>\n",
       "  </tbody>\n",
       "</table>\n",
       "</div>"
      ],
      "text/plain": [
       "                          name platform  year_of_release    genre  na_sales  \\\n",
       "16          Grand Theft Auto V      PS3             2013   Action      7.02   \n",
       "34  Call of Duty: Black Ops II      PS3             2012  Shooter      4.99   \n",
       "\n",
       "    eu_sales  jp_sales  other_sales  critic_score  user_score rating  \\\n",
       "16      9.09      0.98         3.96          97.0         8.2      M   \n",
       "34      5.73      0.65         2.42          83.0         5.3      M   \n",
       "\n",
       "    sum_sales  \n",
       "16  21.049999  \n",
       "34  13.789999  "
      ]
     },
     "execution_count": 70,
     "metadata": {},
     "output_type": "execute_result"
    }
   ],
   "source": [
    "data_ps3 = games.query('platform == \"PS3\"')\n",
    "data_ps3.head(2)"
   ]
  },
  {
   "cell_type": "code",
   "execution_count": 71,
   "metadata": {},
   "outputs": [
    {
     "data": {
      "image/png": "[encoded data removed]",
      "text/plain": [
       "<Figure size 432x432 with 3 Axes>"
      ]
     },
     "metadata": {},
     "output_type": "display_data"
    }
   ],
   "source": [
    "sns.set(style='darkgrid')\n",
    "sns.jointplot(data=data_ps3, x='user_score', y='critic_score', color='green', kind='reg')\n",
    "plt.xlabel('Оценки пользователей')\n",
    "plt.ylabel('Оценки критиков')\n",
    "plt.show()"
   ]
  },
  {
   "cell_type": "markdown",
   "metadata": {},
   "source": [
    "Заметен тренд и корреляция между оценками, однако говорить, что оценки повторяют друг друга нельзя."
   ]
  },
  {
   "cell_type": "code",
   "execution_count": 72,
   "metadata": {},
   "outputs": [
    {
     "data": {
      "image/png": "[encoded data removed]",
      "text/plain": [
       "<Figure size 1440x720 with 2 Axes>"
      ]
     },
     "metadata": {},
     "output_type": "display_data"
    }
   ],
   "source": [
    "sns.set(style='whitegrid')\n",
    "fig, ax = plt.subplots(ncols=2, nrows=1, figsize=(20, 10), sharey=True)\n",
    "sns.scatterplot(data=data_ps3, x='critic_score', y='sum_sales', color='blue', ax=ax[0])\n",
    "sns.scatterplot(data=data_ps3, x='user_score', y='sum_sales', color='orange', ax=ax[1])\n",
    "ax[0].set_ylabel('Объемы продаж, млн. долларов')\n",
    "ax[0].set_xlabel('Оценки критиков')\n",
    "ax[1].set_xlabel('Оценки пользователей')\n",
    "fig.suptitle('Зависимость продаж от оценок пользователей и критиков')\n",
    "plt.show()"
   ]
  },
  {
   "cell_type": "code",
   "execution_count": 73,
   "metadata": {},
   "outputs": [
    {
     "name": "stdout",
     "output_type": "stream",
     "text": [
      "Корреляция между оценками критиков и продажами составляет: 0.4055296074347686\n",
      "Корреляция между оценками пользователей и продажами составляет: 0.1359793953775695\n"
     ]
    }
   ],
   "source": [
    "print(f\"Корреляция между оценками критиков и продажами составляет: {data_ps3['sum_sales'].corr(data_ps3['critic_score'])}\")\n",
    "print(f\"Корреляция между оценками пользователей и продажами составляет: {data_ps3['sum_sales'].corr(data_ps3['user_score'])}\")"
   ]
  },
  {
   "cell_type": "markdown",
   "metadata": {},
   "source": [
    "#### Вывод"
   ]
  },
  {
   "cell_type": "markdown",
   "metadata": {},
   "source": [
    "На продажи больше всего влияет оценка критиков, что логично. Корреляция между продажами и оценкой критиков примерно в 3 раза больше, чем корреляция между продажами и оценкой пользователей."
   ]
  },
  {
   "cell_type": "markdown",
   "metadata": {},
   "source": [
    "### Справедлив ли вывод из пункта выше для других платформ?"
   ]
  },
  {
   "cell_type": "code",
   "execution_count": 74,
   "metadata": {},
   "outputs": [
    {
     "name": "stdout",
     "output_type": "stream",
     "text": [
      "Корреляция оценок пользователей и продаж - 0.12565572323165386\n",
      "Корреляция оценок критиков и продаж - 0.16015540760047178\n",
      "Вывод для платформы Wii верен!\n",
      "\n",
      "Корреляция оценок пользователей и продаж - 0.16864216389435913\n",
      "Корреляция оценок критиков и продаж - 0.22173923280480518\n",
      "Вывод для платформы DS верен!\n",
      "\n",
      "Корреляция оценок пользователей и продаж - 0.12328238626323126\n",
      "Корреляция оценок критиков и продаж - 0.37778377280988756\n",
      "Вывод для платформы X360 верен!\n",
      "\n",
      "Корреляция оценок пользователей и продаж - 0.1359793953775695\n",
      "Корреляция оценок критиков и продаж - 0.4055296074347686\n",
      "Вывод для платформы PS3 верен!\n",
      "\n",
      "Корреляция оценок пользователей и продаж - 0.24138649354008063\n",
      "Корреляция оценок критиков и продаж - 0.3217095081942238\n",
      "Вывод для платформы 3DS верен!\n",
      "\n",
      "Корреляция оценок пользователей и продаж - -0.01954829317422885\n",
      "Корреляция оценок критиков и продаж - 0.38703249094672143\n",
      "Вывод для платформы PS4 верен!\n",
      "\n",
      "Корреляция оценок пользователей и продаж - -0.02782240116971445\n",
      "Корреляция оценок критиков и продаж - 0.26160250012473274\n",
      "Вывод для платформы PC верен!\n",
      "\n",
      "Корреляция оценок пользователей и продаж - 0.2465371782785561\n",
      "Корреляция оценок критиков и продаж - 0.280210117433129\n",
      "Вывод для платформы PSP верен!\n",
      "\n",
      "Корреляция оценок пользователей и продаж - 0.36491455984297816\n",
      "Корреляция оценок критиков и продаж - 0.33283743447341174\n",
      "Вывод для платформы WiiU не верен!\n",
      "\n",
      "Корреляция оценок пользователей и продаж - 0.22457414274648027\n",
      "Корреляция оценок критиков и продаж - 0.3874320401535953\n",
      "Вывод для платформы PS2 верен!\n",
      "\n",
      "Корреляция оценок пользователей и продаж - -0.09426723017133183\n",
      "Корреляция оценок критиков и продаж - 0.3714346071669978\n",
      "Вывод для платформы XOne верен!\n",
      "\n",
      "Корреляция оценок пользователей и продаж - 0.24798798623802304\n",
      "Корреляция оценок критиков и продаж - 0.4717442316734034\n",
      "Вывод для платформы XB верен!\n",
      "\n",
      "Корреляция оценок пользователей и продаж - 0.32876012340804706\n",
      "Корреляция оценок критиков и продаж - 0.2819984326067408\n",
      "Вывод для платформы GC не верен!\n",
      "\n",
      "Корреляция оценок пользователей и продаж - 0.06149785470378134\n",
      "Корреляция оценок критиков и продаж - 0.1817517086882919\n",
      "Вывод для платформы PSV верен!\n",
      "\n",
      "Корреляция оценок пользователей и продаж - -0.04462027970726489\n",
      "Корреляция оценок критиков и продаж - 0.12688254299565654\n",
      "Вывод для платформы GBA верен!\n",
      "\n"
     ]
    }
   ],
   "source": [
    "platforms = games['platform'].unique().tolist()\n",
    "for platform in platforms:\n",
    "    corr_sales_user = games['sum_sales'].corr(games.query('platform == @platform')['user_score'])\n",
    "    corr_sales_critic = games['sum_sales'].corr(games.query('platform == @platform')['critic_score'])\n",
    "    print(f'Корреляция оценок пользователей и продаж - {corr_sales_user}')\n",
    "    print(f'Корреляция оценок критиков и продаж - {corr_sales_critic}')\n",
    "    if games['sum_sales'].corr(games.query('platform == @platform')['critic_score']) > games['sum_sales'].corr(games.query('platform == @platform')['user_score']):\n",
    "        print(f'Вывод для платформы {platform} верен!')\n",
    "        print()\n",
    "    else:\n",
    "        print(f'Вывод для платформы {platform} не верен!')\n",
    "        print()\n",
    "    "
   ]
  },
  {
   "cell_type": "markdown",
   "metadata": {},
   "source": [
    "Данный вывод верен и для других платформ кроме WiiU и GC."
   ]
  },
  {
   "cell_type": "markdown",
   "metadata": {},
   "source": [
    "### Распределение игр и продаж по жанрам"
   ]
  },
  {
   "cell_type": "code",
   "execution_count": 75,
   "metadata": {},
   "outputs": [
    {
     "data": {
      "image/png": "[encoded data removed]",
      "text/plain": [
       "<Figure size 1440x576 with 2 Axes>"
      ]
     },
     "metadata": {},
     "output_type": "display_data"
    }
   ],
   "source": [
    "fig, ax = plt.subplots(nrows=1, ncols=2, figsize=(20, 8))\n",
    "sns.set_style('whitegrid')\n",
    "sns.countplot(data=games, y='genre', ax=ax[0])\n",
    "sns.barplot(data=games, y='genre', x='sum_sales', ax=ax[1], ci=None)\n",
    "ax[0].set_ylabel('Жанр')\n",
    "ax[0].set_xlabel('Количество игр')\n",
    "ax[1].set_xlabel('Объем продаж, млн. долларов')\n",
    "ax[1].set_ylabel('')\n",
    "ax[1].set_yticklabels([])\n",
    "sns.despine()\n",
    "plt.show()"
   ]
  },
  {
   "cell_type": "markdown",
   "metadata": {},
   "source": [
    "Больше всего игр произведено в жанре Action (более 2500). Второе место по количеству делят жанры Sports и Misc (около 1400). Третье место - Role-playing и Adventure (около 1000). Меньше всего их сделано в жанрах Puzzle, Platform, Fighting, Strategy (менее 500).\n",
    "\n",
    "Больше всего продаж принесли жанры Shooter (более 0.9), Platform (0.7) и Sports (около 0.6). Данные жанры можем отнести к прибыльным. Жанрами с низким объемом продаж являются Puzzle, Adventure и Strategy (менее 0.3). К жанрам со \"средним\" объем продаж относятся все остальные."
   ]
  },
  {
   "cell_type": "markdown",
   "metadata": {},
   "source": [
    "#### Вывод"
   ]
  },
  {
   "cell_type": "markdown",
   "metadata": {},
   "source": [
    "Больше всего игр сделано в жанре Action, Role-Playing и Adventure, а продаются лучше всего жанры Shooter, PLatform и Sports. Интересно отметить, что игр в жанре Platform меньше всего относительно других жанров при этом данный жанр является лидером продаж."
   ]
  },
  {
   "cell_type": "markdown",
   "metadata": {},
   "source": [
    "## Портрет пользователя каждого региона"
   ]
  },
  {
   "cell_type": "markdown",
   "metadata": {},
   "source": [
    "### Портреты"
   ]
  },
  {
   "cell_type": "markdown",
   "metadata": {},
   "source": [
    "Для каждого пользователя региона нужно понять следующее:\n",
    "- самые популярные платформы (топ-5);\n",
    "- cамые популярные жанры (топ-5)."
   ]
  },
  {
   "cell_type": "code",
   "execution_count": 76,
   "metadata": {},
   "outputs": [
    {
     "name": "stdout",
     "output_type": "stream",
     "text": [
      "  platform  eu_sales  jp_sales  na_sales\n",
      "0      3DS  0.027865  0.115158  0.024223\n",
      "1       DS  0.089756  0.258625  0.106129\n",
      "2      GBA  0.003062  0.004688  0.005089\n",
      "3       GC  0.004863  0.005830  0.011156\n",
      "4       PC  0.069488  0.000000  0.019443\n",
      "\n",
      "       genre  eu_sales  jp_sales  na_sales\n",
      "0     Action  0.248061  0.176584  0.230840\n",
      "1  Adventure  0.021333  0.018933  0.020299\n",
      "2   Fighting  0.030679  0.050126  0.042356\n",
      "3       Misc  0.088634  0.086909  0.103048\n",
      "4   Platform  0.056904  0.099110  0.060764\n"
     ]
    }
   ],
   "source": [
    "regions = {'na_sales': 'Северной Америки', 'eu_sales': 'Европы', 'jp_sales': 'Японии'}\n",
    "col_regions = list(regions.keys())\n",
    "\n",
    "region_platform_sales = games.pivot_table(index='platform', values=['na_sales', 'eu_sales', 'jp_sales'], aggfunc='sum')\n",
    "region_genre_sales = games.pivot_table(index='genre', values=['na_sales', 'eu_sales', 'jp_sales'], aggfunc='sum')\n",
    "\n",
    "region_platform_sales.reset_index(inplace=True)\n",
    "region_genre_sales.reset_index(inplace=True)\n",
    "\n",
    "cols = ['na_sales', 'eu_sales', 'jp_sales']\n",
    "for col in cols:\n",
    "    region_platform_sales[col] = region_platform_sales[col] / region_platform_sales[col].sum()\n",
    "    region_genre_sales[col] = region_genre_sales[col] / region_genre_sales[col].sum()\n",
    "\n",
    "print(region_platform_sales.head(5))\n",
    "print()\n",
    "print(region_genre_sales.head(5))"
   ]
  },
  {
   "cell_type": "code",
   "execution_count": 77,
   "metadata": {},
   "outputs": [
    {
     "data": {
      "image/png": "[encoded data removed]",
      "text/plain": [
       "<Figure size 1440x360 with 2 Axes>"
      ]
     },
     "metadata": {},
     "output_type": "display_data"
    },
    {
     "data": {
      "image/png": "[encoded data removed]",
      "text/plain": [
       "<Figure size 1440x360 with 2 Axes>"
      ]
     },
     "metadata": {},
     "output_type": "display_data"
    },
    {
     "data": {
      "image/png": "[encoded data removed]",
      "text/plain": [
       "<Figure size 1440x360 with 2 Axes>"
      ]
     },
     "metadata": {},
     "output_type": "display_data"
    }
   ],
   "source": [
    "for region in range(len(col_regions)):\n",
    "    fig, ax = plt.subplots(nrows=1, ncols=2, figsize=(20, 5), sharey=True)\n",
    "    fig.suptitle(f'Портрет пользователя {regions[col_regions[region]]}')\n",
    "    sns.barplot(data=region_platform_sales.sort_values(by=col_regions[region], ascending=False), x='platform', y=col_regions[region], ax=ax[0], ci=None, palette=sns.cubehelix_palette(8))\n",
    "    sns.barplot(data=region_genre_sales.sort_values(by=col_regions[region], ascending=False), x='genre', y=col_regions[region], ax=ax[1], ci=None, palette=sns.cubehelix_palette(8, start=.5, rot=-.75))\n",
    "    ax[0].set_xlabel('Платформы')\n",
    "    ax[1].set_xlabel('Жанры')\n",
    "    ax[0].set_ylabel('Объемы продаж, млн. долларов (в долях)')\n",
    "    ax[1].set_ylabel('')\n",
    "    ax[0].tick_params(labelrotation=90, axis='x')\n",
    "    ax[1].tick_params(labelrotation=90, axis='x')\n",
    "    sns.despine()\n",
    "plt.show()"
   ]
  },
  {
   "cell_type": "markdown",
   "metadata": {},
   "source": [
    "- Портрет пользователя Северной Америки:\n",
    "    - Топ-5 популярных платформ: 1-X360, 2-Wii, 3-PS3, 4-DS, 5-PS2;\n",
    "    - Топ-5 популярных жанров: 1-Action, 2-Sports, 3-Shooter, 4-Misc, 5-Racing.\n",
    "\n",
    "- Портрет пользователя Европы:\n",
    "    - Топ-5 популярных платформ: 1-PS3, 2-X360, 3-Wii, 4-DS, 5-PS4;\n",
    "    - Топ-5 популярных жанров: 1-Action, 2-Sports, 3-Shooter, 4-Misc, 5-Platform.\n",
    "    \n",
    "- Портрет пользователя Японии:\n",
    "    - Топ-5 популярных платформ: 1-DS, 2-3DS, 3-PS3, 4-PSP, 5-Wii;\n",
    "    - Топ-5 популярных жанров: 1-Role-Playing, 2-Action, 3-Misc, 4-Sports, 5-Platform."
   ]
  },
  {
   "cell_type": "markdown",
   "metadata": {},
   "source": [
    "#### Вывод"
   ]
  },
  {
   "cell_type": "markdown",
   "metadata": {},
   "source": [
    "Для пользоватей Северной Америки характерны платформы X360, PS3, Wii, DS как и для пользоватлей Европы. Разница в соотношении долей, так в Северной Америке процент от продаж игр на платформе X360 составляет более 20%, когда в Европе он составляет около 15%. В Еропе больший объем продаж приносит платформа PS3 (около 20%). В сравнении с Северной Америкой процент по этой платформе составляет в районе 15%. В Японии, наоборот такие платформы пользуются меньшей популярность, так объем продаж игр на платформе X360 сотавляет менее 5% от общих продах, а на платформе PS3 около 12%. В Японии больше популярность пользуются такие платформы как DS и 3DS. Эти платформы вместе приносят более 40% объемов продаж (DS - примерно 28%, а 3DS - 16%). В Северной Америке и Европе платформа 3DS популрность не пользуется, приносит менее 5% продаж.\n",
    "\n",
    "В Северной Америке и Европе вкусы пользователей почти не различаются. Пользователи выбирают больше такие жанры как Action, Sports, Shooter и Misc. Напротив, в Японии предпочтения игроков по жанрам отличаются. Так, на первом месте стоят игры в жанре Role-Playing, затем идут игры в жанре Action, Misc и Sports."
   ]
  },
  {
   "cell_type": "markdown",
   "metadata": {},
   "source": [
    "### Влияние рейтинга ESRB на продажи в регионах"
   ]
  },
  {
   "cell_type": "code",
   "execution_count": 78,
   "metadata": {},
   "outputs": [
    {
     "data": {
      "image/png": "[encoded data removed]",
      "text/plain": [
       "<Figure size 1440x360 with 3 Axes>"
      ]
     },
     "metadata": {},
     "output_type": "display_data"
    }
   ],
   "source": [
    "colors = ['coral', 'deepskyblue', 'violet']\n",
    "fig, ax = plt.subplots(nrows=1, ncols=3, figsize=(20, 5))\n",
    "for region in range(len(col_regions)):\n",
    "    sns.barplot(data=games, x='rating', y=col_regions[region], ax=ax[region], ci=None, color=colors[region])\n",
    "    ax[region].set_xlabel('Рейтинг')\n",
    "    ax[region].set_ylabel('Объемы продаж, млн. долларов')\n",
    "    ax[region].set_title(f'Влияние рейтинга ESRB на продажи {regions[col_regions[region]]}')\n",
    "plt.show()"
   ]
  },
  {
   "cell_type": "markdown",
   "metadata": {},
   "source": [
    "#### Вывод"
   ]
  },
  {
   "cell_type": "markdown",
   "metadata": {},
   "source": [
    "В Северной Америке как и Европе больше всего продаж приносят игры с рейтингом AO и M, это игры категории для взрослых. Меньше всего в этих двух регионах приносят продаж игры с категорией EC и T, это игры для детей от 3 лет и подростков от 13 лет. Ситуация в Японии обстоит иначе, здесь нет игр с рейтингом AO и EC, больше всего продаж приходятся на игры с рейтингом T и E."
   ]
  },
  {
   "cell_type": "markdown",
   "metadata": {},
   "source": [
    "## Проверка гипотез"
   ]
  },
  {
   "cell_type": "markdown",
   "metadata": {},
   "source": [
    "Заранее зададим уровень значимости, равный 5%."
   ]
  },
  {
   "cell_type": "code",
   "execution_count": 79,
   "metadata": {},
   "outputs": [],
   "source": [
    "alpha = .05"
   ]
  },
  {
   "cell_type": "markdown",
   "metadata": {},
   "source": [
    "### Средние пользовательские рейтинги платформ Xbox One и PC одинаковые"
   ]
  },
  {
   "cell_type": "markdown",
   "metadata": {},
   "source": [
    "Данная гипотеза относится к гипотезе о равенстве средних двух генеральных совокупностей. "
   ]
  },
  {
   "cell_type": "code",
   "execution_count": 80,
   "metadata": {},
   "outputs": [],
   "source": [
    "xone_user_score = games.loc[games['platform'] == 'XOne', 'user_score']\n",
    "pc_user_score = games.loc[games['platform'] == 'PC', 'user_score']"
   ]
  },
  {
   "cell_type": "markdown",
   "metadata": {},
   "source": [
    "H0: средние пользовательские оценки у платформ Xbox One и PC равны  \n",
    "H1: -//- не равны"
   ]
  },
  {
   "cell_type": "code",
   "execution_count": 81,
   "metadata": {},
   "outputs": [
    {
     "name": "stdout",
     "output_type": "stream",
     "text": [
      "p-value: 0.022648373803310133\n",
      "Отвергаем гипотезу\n"
     ]
    }
   ],
   "source": [
    "result = st.ttest_ind(xone_user_score, pc_user_score)\n",
    "print(f'p-value: {result.pvalue}')\n",
    "if result.pvalue >= alpha:\n",
    "    print('Не отвергаем гипотезу')\n",
    "else:\n",
    "    print('Отвергаем гипотезу')"
   ]
  },
  {
   "cell_type": "markdown",
   "metadata": {},
   "source": [
    "Отвергаем гипотезу. С очень низкой вероятность можем получить различие средних оценок случайно."
   ]
  },
  {
   "cell_type": "markdown",
   "metadata": {},
   "source": [
    "### Средние пользовательские рейтинги жанров Action и Sports разные"
   ]
  },
  {
   "cell_type": "markdown",
   "metadata": {},
   "source": [
    "Данная гипотеза относится к гипотезе о равенстве средних двух генеральных совокупностей. "
   ]
  },
  {
   "cell_type": "code",
   "execution_count": 82,
   "metadata": {},
   "outputs": [],
   "source": [
    "action_user_score = games.loc[games['genre'] == 'Action', 'user_score']\n",
    "sports_user_score = games.loc[games['genre'] == 'Sports', 'user_score']"
   ]
  },
  {
   "cell_type": "markdown",
   "metadata": {},
   "source": [
    "H0: средние пользовательские оценки у жанров ACtion и Sports равны  \n",
    "H1: -//- не равны"
   ]
  },
  {
   "cell_type": "code",
   "execution_count": 83,
   "metadata": {},
   "outputs": [
    {
     "name": "stdout",
     "output_type": "stream",
     "text": [
      "p-value: 1.0568691132193693e-11\n",
      "Отвергаем гипотезу\n"
     ]
    }
   ],
   "source": [
    "result = st.ttest_ind(action_user_score, sports_user_score)\n",
    "print(f'p-value: {result.pvalue}')\n",
    "if result.pvalue >= alpha:\n",
    "    print('Не отвергаем гипотезу')\n",
    "else:\n",
    "    print('Отвергаем гипотезу')"
   ]
  },
  {
   "cell_type": "markdown",
   "metadata": {},
   "source": [
    "Отвергаем гипотезу. С очень низкой вероятность можем получить различие средних оценок случайно."
   ]
  },
  {
   "cell_type": "markdown",
   "metadata": {},
   "source": [
    "## Общий вывод"
   ]
  },
  {
   "cell_type": "markdown",
   "metadata": {},
   "source": [
    "Целью данного проекта было выявить определяющие успешность игры закономерности. Понять, на какие игры нужно сделать основной упор при планировании рекламной капмании.\n",
    "\n",
    "Проведя аналитику данных выше, получаем, что берем период с 2005 по 2016 года.\n",
    "Важно рассматривать такие платформы, которые пользуются популярность и спросом в текущий момент. К таким платформам относятся: X360, PS3, Wii, PS4, PC, 3DS, XOne.  \n",
    "\n",
    "При планировании рекламной кампании основной упор стоит сделать на игры, которые идут на платформах 3DS, PS4, XOne. Данные платформы потенциально прибыльные по сравнению с платформами PS3, X360 и Wii, на которые спрос постепенно падает уже в течение нескольких лет. Стабильной по продажам платформой является PC, который тоже стоит включить группу, на которую нужно выделить больше денежных средств при рекламе.  \n",
    "\n",
    "Однако большинство наибольших продаж приносят такие платформы как X360, PS3, PS4 и XOne, которые достигают велечины до 0.8 млн. долларов, а медианное значение продаж у платформ в такой группе составляет 0.2-0.3 млн. долларов, что выше по сравнению с другими платформами.  \n",
    "\n",
    "При принятии решения о том, какие игры и на каких платформах рекламировать, важно брать во внимание оценку критиков. Корреляция между оценкой критиков и продажми существенная в районе 40%.  \n",
    "\n",
    "Помимо оценки критиков на продажи на них также влиеят жанр игр. Жанрами, пользующимися наибольшим спросом являются Shooter, Platform и Sports. Именно на игры с этим жанром нужно выделить большую долю рекламных средств.  \n",
    "\n",
    "Продумывая стратегию кампании, важно ее дифференцировать для разных групп людей. Выводы выше справедливы для всех в среднем. Однако стоит направить внимание на специфику регионов. Так в регионах Северной Америки и Европы большим спросом пользуются такие платформы как X360, PS3, Wii и DS, а в Японии DS, 3DS и PS3. Хоть мы и сделали вывод, что наблюдается тенденция к падению продаж по данным платформам кроме 3DS, не стоит все равно о них забывать, выделив разную долю денежных средств для каждой платформы в зависимости от региона и того, какую долю продаж она приносит в этом регионе. Вкусы пользователей в Северной Америке и Европе по жанрам не отличаются. Пользователи предпочитают игры в стиле Aсtion, Sports и Shooter, в то время как пользователям из Японии больше нравятся жанры Role-Playing, Action и Misc. Поэтому стоит обрать внимание и на специфические вкусы регионов по жанрам и платформам при разделении реклам. Большим спросом пользуются игры для взрослых в Северной Америке и Европе, когда в Японии игры с рейтингом ESRB для подростков.\n",
    "\n",
    "Дополнительно были проверены две гипотезы, результаты которых следующие:\n",
    "- Средние оценки пользователей по платформам Xbox One и PC не равны;\n",
    "- Средние оценки пользователей по жанрам Action и Sports также не равны."
   ]
  },
  {
   "cell_type": "code",
   "execution_count": null,
   "metadata": {},
   "outputs": [],
   "source": []
  }
 ],
 "metadata": {
  "kernelspec": {
   "display_name": "Python 3",
   "language": "python",
   "name": "python3"
  },
  "language_info": {
   "codemirror_mode": {
    "name": "ipython",
    "version": 3
   },
   "file_extension": ".py",
   "mimetype": "text/x-python",
   "name": "python",
   "nbconvert_exporter": "python",
   "pygments_lexer": "ipython3",
   "version": "3.6.10"
  }
 },
 "nbformat": 4,
 "nbformat_minor": 2
}
